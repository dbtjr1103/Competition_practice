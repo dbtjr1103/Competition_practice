{
  "nbformat": 4,
  "nbformat_minor": 0,
  "metadata": {
    "colab": {
      "provenance": [],
      "mount_file_id": "1kl93h2zMoYG-OFu6x-p1zN_YNdYFNqbg",
      "authorship_tag": "ABX9TyPl4gDq9d5hUglOx5uNnAQ5",
      "include_colab_link": true
    },
    "kernelspec": {
      "name": "python3",
      "display_name": "Python 3"
    },
    "language_info": {
      "name": "python"
    },
    "gpuClass": "standard"
  },
  "cells": [
    {
      "cell_type": "markdown",
      "metadata": {
        "id": "view-in-github",
        "colab_type": "text"
      },
      "source": [
        "<a href=\"https://colab.research.google.com/github/dbtjr1103/Competition_practice/blob/main/hardvoting.ipynb\" target=\"_parent\"><img src=\"https://colab.research.google.com/assets/colab-badge.svg\" alt=\"Open In Colab\"/></a>"
      ]
    },
    {
      "cell_type": "code",
      "source": [
        "cd /content/drive/MyDrive/dacon/car_crash"
      ],
      "metadata": {
        "colab": {
          "base_uri": "https://localhost:8080/"
        },
        "id": "V9HRq9VsHfeb",
        "outputId": "43ef242f-77f4-4fb7-f727-1061e8775fab"
      },
      "execution_count": null,
      "outputs": [
        {
          "output_type": "stream",
          "name": "stdout",
          "text": [
            "/content/drive/MyDrive/dacon/car_crash\n"
          ]
        }
      ]
    },
    {
      "cell_type": "code",
      "source": [
        "from google.colab import drive\n",
        "drive.mount('/content/drive')"
      ],
      "metadata": {
        "colab": {
          "base_uri": "https://localhost:8080/"
        },
        "id": "sCJNnt-Q9FcY",
        "outputId": "d2195297-8802-4c5f-faa9-e63fd783550a"
      },
      "execution_count": null,
      "outputs": [
        {
          "output_type": "stream",
          "name": "stdout",
          "text": [
            "Mounted at /content/drive\n"
          ]
        }
      ]
    },
    {
      "cell_type": "code",
      "execution_count": null,
      "metadata": {
        "id": "FAHlUA-bF7I5"
      },
      "outputs": [],
      "source": [
        "from collections import defaultdict, Counter\n",
        "\n",
        "# 각 submission 파일에서 라벨과 예측값을 읽어와서 딕셔너리에 저장하는 함수\n",
        "def read_submission_file(file_path):\n",
        "    with open(file_path, 'r') as f:\n",
        "        lines = f.readlines()\n",
        "    for line in lines[1:]:\n",
        "        sample_id, label = line.strip().split(',')\n",
        "        yield (sample_id, label)\n",
        "\n",
        "# 하드 보팅을 수행하는 함수\n",
        "def hard_voting(predictions):\n",
        "    label_counts = {}\n",
        "    for model_idx, model_predictions in enumerate(predictions):\n",
        "        for row in model_predictions:\n",
        "            sample_id, label = row\n",
        "            label_count = label_counts.get(sample_id, {}).get(label, 0)\n",
        "            label_counts.setdefault(sample_id, {})[label] = label_count + 1\n",
        "\n",
        "    final_predictions = []\n",
        "    for sample_id, label_count_dict in label_counts.items():\n",
        "        max_count = 0\n",
        "        max_label = None\n",
        "        for label, count in label_count_dict.items():\n",
        "            if count > max_count:\n",
        "                max_count = count\n",
        "                max_label = label\n",
        "        final_predictions.append((sample_id, max_label))\n",
        "    \n",
        "    return final_predictions\n",
        "\n",
        "# 하드 보팅 결과를 새로운 파일로 저장하는 함수\n",
        "def write_submission_file(final_predictions, output_file):\n",
        "    with open(output_file, 'w') as f:\n",
        "        f.write('sample_id,label\\n')\n",
        "        for sample_id, label in final_predictions:\n",
        "            f.write(f'{sample_id},{label}\\n')\n",
        "\n",
        "# 4개 submission 파일에서 라벨과 예측값을 읽어옴\n",
        "submission_files = ['813275_submit_1.csv','813209_submit_2.csv', '813765_addaug_submit.csv', '813362_hard_voting_submission.csv', '813364_testsubmit_3.csv']\n",
        "models_predictions = [read_submission_file(file) for file in submission_files]\n",
        "\n",
        "# 라벨별로 하드 보팅을 수행한 결과를 새로운 파일에 저장\n",
        "output_file = 'hard_voting_5.csv'\n",
        "final_predictions = hard_voting(models_predictions)\n",
        "write_submission_file(final_predictions, output_file)\n"
      ]
    },
    {
      "cell_type": "code",
      "source": [],
      "metadata": {
        "id": "f2A8ZMYTJdiu"
      },
      "execution_count": null,
      "outputs": []
    },
    {
      "cell_type": "code",
      "source": [
        "import pandas as pd\n",
        "from sklearn.metrics import f1_score\n",
        "\n",
        "# submission.csv 파일과 test_label.csv 파일을 불러옵니다.\n",
        "submission = pd.read_csv(\"submission_label.csv\")\n",
        "test_label = pd.read_csv(\"test_label.csv\")\n",
        "\n",
        "# 예측값과 정답값을 각각 리스트로 저장합니다.\n",
        "predicted_labels = list(submission['label'])\n",
        "true_labels = list(test_label['label'])\n",
        "\n",
        "# f1score를 계산합니다.\n",
        "f1score = f1_score(true_labels, predicted_labels, average='macro')\n",
        "\n",
        "# 결과 출력\n",
        "print(\"F1 Score:\", f1score)"
      ],
      "metadata": {
        "id": "AxnoxKIO6dCH",
        "colab": {
          "base_uri": "https://localhost:8080/"
        },
        "outputId": "54ebb20a-52f4-4a66-9f15-7eac7b561740"
      },
      "execution_count": null,
      "outputs": [
        {
          "output_type": "stream",
          "name": "stdout",
          "text": [
            "F1 Score: 0.5506126256117476\n"
          ]
        }
      ]
    },
    {
      "cell_type": "code",
      "source": [
        "import pandas as pd\n",
        "from sklearn.metrics import f1_score\n",
        "\n",
        "# submission.csv 파일과 test_label.csv 파일을 불러옵니다.\n",
        "submission = pd.read_csv(\"/content/drive/MyDrive/dacon/car_crash/813275_submit_1.csv\")\n",
        "test_label = pd.read_csv(\"test_label.csv\")\n",
        "\n",
        "# 예측값과 정답값을 각각 리스트로 저장합니다.\n",
        "predicted_labels = list(submission['label'])\n",
        "true_labels = list(test_label['label'])\n",
        "\n",
        "# f1score를 계산합니다.\n",
        "f1score = f1_score(true_labels, predicted_labels, average='macro')\n",
        "\n",
        "# 결과 출력\n",
        "print(\"F1 Score:\", f1score)"
      ],
      "metadata": {
        "colab": {
          "base_uri": "https://localhost:8080/"
        },
        "id": "1IqpJvQgFoPQ",
        "outputId": "58e7bf6e-c634-41fd-c103-4d98e40f1cc9"
      },
      "execution_count": null,
      "outputs": [
        {
          "output_type": "stream",
          "name": "stdout",
          "text": [
            "F1 Score: 0.4984269142404544\n"
          ]
        }
      ]
    },
    {
      "cell_type": "code",
      "source": [
        "import pandas as pd\n",
        "from sklearn.metrics import f1_score\n",
        "\n",
        "# submission.csv 파일과 test_label.csv 파일을 불러옵니다.\n",
        "submission = pd.read_csv(\"/content/drive/MyDrive/dacon/car_crash/813209_submit_2.csv\")\n",
        "test_label = pd.read_csv(\"test_label.csv\")\n",
        "\n",
        "# 예측값과 정답값을 각각 리스트로 저장합니다.\n",
        "predicted_labels = list(submission['label'])\n",
        "true_labels = list(test_label['label'])\n",
        "\n",
        "# f1score를 계산합니다.\n",
        "f1score = f1_score(true_labels, predicted_labels, average='macro')\n",
        "\n",
        "# 결과 출력\n",
        "print(\"F1 Score:\", f1score)"
      ],
      "metadata": {
        "colab": {
          "base_uri": "https://localhost:8080/"
        },
        "id": "3rn1jkZtF2xL",
        "outputId": "a394cee6-10f6-4c58-e04e-f4d66c646e19"
      },
      "execution_count": null,
      "outputs": [
        {
          "output_type": "stream",
          "name": "stdout",
          "text": [
            "F1 Score: 0.4609067133589483\n"
          ]
        }
      ]
    },
    {
      "cell_type": "code",
      "source": [
        "import pandas as pd\n",
        "from sklearn.metrics import f1_score\n",
        "\n",
        "# submission.csv 파일과 test_label.csv 파일을 불러옵니다.\n",
        "submission = pd.read_csv(\"/content/drive/MyDrive/dacon/car_crash/813362_hard_voting_submission.csv\")\n",
        "test_label = pd.read_csv(\"test_label.csv\")\n",
        "\n",
        "# 예측값과 정답값을 각각 리스트로 저장합니다.\n",
        "predicted_labels = list(submission['label'])\n",
        "true_labels = list(test_label['label'])\n",
        "\n",
        "# f1score를 계산합니다.\n",
        "f1score = f1_score(true_labels, predicted_labels, average='macro')\n",
        "\n",
        "# 결과 출력\n",
        "print(\"F1 Score:\", f1score)"
      ],
      "metadata": {
        "colab": {
          "base_uri": "https://localhost:8080/"
        },
        "id": "AUBeJBa6F5OV",
        "outputId": "e819ef16-9ec6-4861-ae4d-4993d068a159"
      },
      "execution_count": null,
      "outputs": [
        {
          "output_type": "stream",
          "name": "stdout",
          "text": [
            "F1 Score: 0.5004140824909178\n"
          ]
        }
      ]
    },
    {
      "cell_type": "code",
      "source": [
        "import pandas as pd\n",
        "from sklearn.metrics import f1_score\n",
        "\n",
        "# submission.csv 파일과 test_label.csv 파일을 불러옵니다.\n",
        "submission = pd.read_csv(\"/content/drive/MyDrive/dacon/car_crash/hard_voting_5.csv\")\n",
        "test_label = pd.read_csv(\"test_label.csv\")\n",
        "\n",
        "# 예측값과 정답값을 각각 리스트로 저장합니다.\n",
        "predicted_labels = list(submission['label'])\n",
        "true_labels = list(test_label['label'])\n",
        "\n",
        "# f1score를 계산합니다.\n",
        "f1score = f1_score(true_labels, predicted_labels, average='macro')\n",
        "\n",
        "# 결과 출력\n",
        "print(\"F1 Score:\", f1score)"
      ],
      "metadata": {
        "colab": {
          "base_uri": "https://localhost:8080/"
        },
        "id": "kdGy0ZveGA6l",
        "outputId": "d52a8ee6-8ed4-4df7-fe20-67606facb71e"
      },
      "execution_count": null,
      "outputs": [
        {
          "output_type": "stream",
          "name": "stdout",
          "text": [
            "F1 Score: 0.4959483600460671\n"
          ]
        }
      ]
    },
    {
      "cell_type": "code",
      "source": [
        "import pandas as pd\n",
        "from sklearn.metrics import f1_score\n",
        "\n",
        "# submission.csv 파일과 test_label.csv 파일을 불러옵니다.\n",
        "submission = pd.read_csv(\"/content/drive/MyDrive/dacon/car_crash/813765_addaug_submit.csv\")\n",
        "test_label = pd.read_csv(\"test_label.csv\")\n",
        "\n",
        "# 예측값과 정답값을 각각 리스트로 저장합니다.\n",
        "predicted_labels = list(submission['label'])\n",
        "true_labels = list(test_label['label'])\n",
        "\n",
        "# f1score를 계산합니다.\n",
        "f1score = f1_score(true_labels, predicted_labels, average='macro')\n",
        "\n",
        "# 결과 출력\n",
        "print(\"F1 Score:\", f1score)"
      ],
      "metadata": {
        "colab": {
          "base_uri": "https://localhost:8080/"
        },
        "id": "7dnoDBoAGIqF",
        "outputId": "610cfce7-63e5-452b-cfa5-75f94b765dd4"
      },
      "execution_count": null,
      "outputs": [
        {
          "output_type": "stream",
          "name": "stdout",
          "text": [
            "F1 Score: 0.4300529869945302\n"
          ]
        }
      ]
    },
    {
      "cell_type": "code",
      "source": [],
      "metadata": {
        "id": "TKOHddnSoU3f"
      },
      "execution_count": null,
      "outputs": []
    },
    {
      "cell_type": "code",
      "source": [
        "import pandas as pd\n",
        "from sklearn.metrics import f1_score\n",
        "\n",
        "# submission.csv 파일과 test_label.csv 파일을 불러옵니다.\n",
        "submission = pd.read_csv(\"/content/drive/MyDrive/dacon/car_crash/submission2.csv\")\n",
        "test_label = pd.read_csv(\"test_label.csv\")\n",
        "\n",
        "# 예측값과 정답값을 각각 리스트로 저장합니다.\n",
        "predicted_labels = list(submission['label'])\n",
        "true_labels = list(test_label['label'])\n",
        "\n",
        "# f1score를 계산합니다.\n",
        "f1score = f1_score(true_labels, predicted_labels, average='macro')\n",
        "\n",
        "# 결과 출력\n",
        "print(\"F1 Score:\", f1score)"
      ],
      "metadata": {
        "colab": {
          "base_uri": "https://localhost:8080/"
        },
        "id": "X0z5ENZVGYZD",
        "outputId": "e229b1a3-fefa-44ae-a2f0-d0a4d502f177"
      },
      "execution_count": null,
      "outputs": [
        {
          "output_type": "stream",
          "name": "stdout",
          "text": [
            "F1 Score: 0.487400838607896\n"
          ]
        }
      ]
    },
    {
      "cell_type": "code",
      "source": [
        "import pandas as pd\n",
        "from sklearn.metrics import f1_score\n",
        "\n",
        "# submission.csv 파일과 test_label.csv 파일을 불러옵니다.\n",
        "submission = pd.read_csv(\"submission_label_2.csv\")\n",
        "test_label = pd.read_csv(\"test_label.csv\")\n",
        "\n",
        "# 예측값과 정답값을 각각 리스트로 저장합니다.\n",
        "predicted_labels = list(submission['label'])\n",
        "true_labels = list(test_label['label'])\n",
        "\n",
        "# f1score를 계산합니다.\n",
        "f1score = f1_score(true_labels, predicted_labels, average='macro')\n",
        "\n",
        "# 결과 출력\n",
        "print(\"F1 Score:\", f1score)"
      ],
      "metadata": {
        "colab": {
          "base_uri": "https://localhost:8080/"
        },
        "id": "M_Y9rmYBGeyl",
        "outputId": "dcf8ee06-c567-4e66-b7e2-e1f6f88b8fd4"
      },
      "execution_count": null,
      "outputs": [
        {
          "output_type": "stream",
          "name": "stdout",
          "text": [
            "F1 Score: 0.5717127095829926\n"
          ]
        }
      ]
    },
    {
      "cell_type": "code",
      "source": [
        "import pandas as pd\n",
        "from sklearn.metrics import f1_score\n",
        "\n",
        "# submission.csv 파일과 test_label.csv 파일을 불러옵니다.\n",
        "submission = pd.read_csv(\"submission_label_4models.csv\")\n",
        "test_label = pd.read_csv(\"test_label.csv\")\n",
        "\n",
        "# 예측값과 정답값을 각각 리스트로 저장합니다.\n",
        "predicted_labels = list(submission['label'])\n",
        "true_labels = list(test_label['label'])\n",
        "\n",
        "# f1score를 계산합니다.\n",
        "f1score = f1_score(true_labels, predicted_labels, average='macro')\n",
        "\n",
        "# 결과 출력\n",
        "print(\"F1 Score:\", f1score)"
      ],
      "metadata": {
        "id": "_0gW2gmOoXtU",
        "colab": {
          "base_uri": "https://localhost:8080/"
        },
        "outputId": "0b3509e4-de1a-42d3-b31f-ff11679c65b9"
      },
      "execution_count": null,
      "outputs": [
        {
          "output_type": "stream",
          "name": "stdout",
          "text": [
            "F1 Score: 0.5916105388856561\n"
          ]
        }
      ]
    },
    {
      "cell_type": "code",
      "source": [
        "import pandas as pd\n",
        "\n",
        "df = pd.read_csv('submission_label_4models.csv')\n",
        "\n",
        "# 여기에서 df 변수를 가공하는 작업을 수행합니다.\n",
        "\n",
        "df.to_csv('submission_label_splitmodels.csv', index=False)"
      ],
      "metadata": {
        "id": "kIO4_tDidh7f"
      },
      "execution_count": null,
      "outputs": []
    },
    {
      "cell_type": "code",
      "source": [
        "import pandas as pd\n",
        "from sklearn.metrics import f1_score\n",
        "\n",
        "# submission.csv 파일과 test_label.csv 파일을 불러옵니다.\n",
        "submission = pd.read_csv(\"submission_TW (1).csv\")\n",
        "test_label = pd.read_csv(\"test_label.csv\")\n",
        "\n",
        "# 예측값과 정답값을 각각 리스트로 저장합니다.\n",
        "predicted_labels = list(submission['label'])\n",
        "true_labels = list(test_label['label'])\n",
        "\n",
        "# f1score를 계산합니다.\n",
        "f1score = f1_score(true_labels, predicted_labels, average='macro')\n",
        "\n",
        "# 결과 출력\n",
        "print(\"F1 Score:\", f1score)"
      ],
      "metadata": {
        "id": "VDh0tacZeaFz",
        "colab": {
          "base_uri": "https://localhost:8080/"
        },
        "outputId": "89a100fd-c5eb-47ce-a027-dc637700a96d"
      },
      "execution_count": null,
      "outputs": [
        {
          "output_type": "stream",
          "name": "stdout",
          "text": [
            "F1 Score: 0.6446190346742365\n"
          ]
        }
      ]
    },
    {
      "cell_type": "code",
      "source": [
        "import pandas as pd\n",
        "from sklearn.metrics import f1_score\n",
        "\n",
        "# submission.csv 파일과 test_label.csv 파일을 불러옵니다.\n",
        "submission = pd.read_csv(\"submission_TW (1).csv\")\n",
        "test_label = pd.read_csv(\"test_label.csv\")\n",
        "\n",
        "# 예측값과 정답값을 각각 리스트로 저장합니다.\n",
        "predicted_labels = list(submission['label'])\n",
        "true_labels = list(test_label['label'])\n",
        "\n",
        "# f1score를 계산합니다.\n",
        "f1score = f1_score(true_labels, predicted_labels, average='macro')\n",
        "\n",
        "# 결과 출력\n",
        "print(\"F1 Score:\", f1score)"
      ],
      "metadata": {
        "id": "q_soKcJ6C4jV",
        "outputId": "e12cc389-0f25-4fd2-c441-2751da0e7b68",
        "colab": {
          "base_uri": "https://localhost:8080/"
        }
      },
      "execution_count": null,
      "outputs": [
        {
          "output_type": "stream",
          "name": "stdout",
          "text": [
            "F1 Score: 0.6570369522435686\n"
          ]
        }
      ]
    },
    {
      "cell_type": "code",
      "source": [
        "import pandas as pd\n",
        "\n",
        "df = pd.read_csv('/content/submission_TW (1).csv')\n",
        "\n",
        "# 여기에서 df 변수를 가공하는 작업을 수행합니다.\n",
        "\n",
        "df.to_csv('submission_TW.csv', index=False)"
      ],
      "metadata": {
        "id": "2W_nU4k3-xt0"
      },
      "execution_count": null,
      "outputs": []
    },
    {
      "cell_type": "code",
      "source": [
        "import pandas as pd\n",
        "from sklearn.metrics import f1_score\n",
        "submission = pd.read_csv(\"submission_TW (1).csv\")\n",
        "test_label = pd.read_csv(\"test_label.csv\")\n",
        "predicted_labels = list(submission['label'])\n",
        "true_labels = list(test_label['label'])\n",
        "f1_scores = f1_score(true_labels, predicted_labels, labels=[0, 1, 2, 3, 4, 5, 6, 7, 8, 9, 10, 11, 12], average=None)\n",
        "for label, f1_score in enumerate(f1_scores):\n",
        "    print('Label {}: F1 Score: {:.4f}'.format(label, f1_score))"
      ],
      "metadata": {
        "id": "YBARqNkzC5fe",
        "colab": {
          "base_uri": "https://localhost:8080/"
        },
        "outputId": "845765da-ac75-4d86-86f5-bdbb3a7c2b21"
      },
      "execution_count": null,
      "outputs": [
        {
          "output_type": "stream",
          "name": "stdout",
          "text": [
            "Label 0: F1 Score: 0.9806\n",
            "Label 1: F1 Score: 0.8092\n",
            "Label 2: F1 Score: 0.6250\n",
            "Label 3: F1 Score: 0.7805\n",
            "Label 4: F1 Score: 0.6923\n",
            "Label 5: F1 Score: 0.5143\n",
            "Label 6: F1 Score: 0.4444\n",
            "Label 7: F1 Score: 0.7584\n",
            "Label 8: F1 Score: 0.7857\n",
            "Label 9: F1 Score: 0.5926\n",
            "Label 10: F1 Score: 0.6667\n",
            "Label 11: F1 Score: 0.4474\n",
            "Label 12: F1 Score: 0.4444\n"
          ]
        }
      ]
    },
    {
      "cell_type": "code",
      "source": [
        "import pandas as pd\n",
        "from sklearn.metrics import f1_score\n",
        "\n",
        "# submission.csv 파일과 test_label.csv 파일을 불러옵니다.\n",
        "submission = pd.read_csv(\"best_final(2_2_6).csv\")\n",
        "test_label = pd.read_csv(\"test_label.csv\")\n",
        "\n",
        "# 예측값과 정답값을 각각 리스트로 저장합니다.\n",
        "predicted_labels = list(submission['label'])\n",
        "true_labels = list(test_label['label'])\n",
        "\n",
        "# f1score를 계산합니다.\n",
        "f1score = f1_score(true_labels, predicted_labels, average='macro')\n",
        "\n",
        "# 결과 출력\n",
        "print(\"F1 Score:\", f1score)"
      ],
      "metadata": {
        "id": "aD06q-DuazEZ",
        "colab": {
          "base_uri": "https://localhost:8080/"
        },
        "outputId": "77757a1e-961a-478f-b5ec-89db314f2067"
      },
      "execution_count": 1,
      "outputs": [
        {
          "output_type": "stream",
          "name": "stdout",
          "text": [
            "F1 Score: 0.6550806358475716\n"
          ]
        }
      ]
    },
    {
      "cell_type": "code",
      "source": [
        "import pandas as pd\n",
        "from sklearn.metrics import f1_score\n",
        "\n",
        "# submission.csv 파일과 test_label.csv 파일을 불러옵니다.\n",
        "submission = pd.read_csv(\"result01.csv\")\n",
        "test_label = pd.read_csv(\"test_label.csv\")\n",
        "\n",
        "# 예측값과 정답값을 각각 리스트로 저장합니다.\n",
        "predicted_labels = list(submission['label'])\n",
        "true_labels = list(test_label['label'])\n",
        "\n",
        "# f1score를 계산합니다.\n",
        "f1score = f1_score(true_labels, predicted_labels, average='macro')\n",
        "\n",
        "# 결과 출력\n",
        "print(\"F1 Score:\", f1score)"
      ],
      "metadata": {
        "colab": {
          "base_uri": "https://localhost:8080/"
        },
        "id": "S56oTDhdvxI1",
        "outputId": "8eb1c755-e7c2-4ccc-81ec-de729c406914"
      },
      "execution_count": 1,
      "outputs": [
        {
          "output_type": "stream",
          "name": "stdout",
          "text": [
            "F1 Score: 0.5769792931092511\n"
          ]
        }
      ]
    },
    {
      "cell_type": "code",
      "source": [
        "import pandas as pd\n",
        "from sklearn.metrics import f1_score\n",
        "\n",
        "# submission.csv 파일과 test_label.csv 파일을 불러옵니다.\n",
        "submission = pd.read_csv(\"result02.csv\")\n",
        "test_label = pd.read_csv(\"test_label.csv\")\n",
        "\n",
        "# 예측값과 정답값을 각각 리스트로 저장합니다.\n",
        "predicted_labels = list(submission['label'])\n",
        "true_labels = list(test_label['label'])\n",
        "\n",
        "# f1score를 계산합니다.\n",
        "f1score = f1_score(true_labels, predicted_labels, average='macro')\n",
        "\n",
        "# 결과 출력\n",
        "print(\"F1 Score:\", f1score)"
      ],
      "metadata": {
        "colab": {
          "base_uri": "https://localhost:8080/"
        },
        "id": "3PlxMd4dIQK8",
        "outputId": "02bbbeef-e0e2-44b0-a242-c3b555856398"
      },
      "execution_count": 2,
      "outputs": [
        {
          "output_type": "stream",
          "name": "stdout",
          "text": [
            "F1 Score: 0.5704717557706029\n"
          ]
        }
      ]
    },
    {
      "cell_type": "code",
      "source": [],
      "metadata": {
        "id": "LmUjLuTOIRpu"
      },
      "execution_count": null,
      "outputs": []
    }
  ]
}