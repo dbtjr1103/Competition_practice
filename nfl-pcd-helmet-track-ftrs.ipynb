{
 "cells": [
  {
   "cell_type": "code",
   "execution_count": 1,
   "id": "79cbc1dd",
   "metadata": {
    "_cell_guid": "b1076dfc-b9ad-4769-8c92-a6c4dae69d19",
    "_uuid": "8f2839f25d086af736a60e9eeb907d3b93b6e0e5",
    "execution": {
     "iopub.execute_input": "2023-02-28T04:11:47.466716Z",
     "iopub.status.busy": "2023-02-28T04:11:47.465881Z",
     "iopub.status.idle": "2023-02-28T04:11:49.375753Z",
     "shell.execute_reply": "2023-02-28T04:11:49.374767Z"
    },
    "papermill": {
     "duration": 1.922952,
     "end_time": "2023-02-28T04:11:49.378427",
     "exception": false,
     "start_time": "2023-02-28T04:11:47.455475",
     "status": "completed"
    },
    "tags": []
   },
   "outputs": [],
   "source": [
    "import os\n",
    "import torch\n",
    "\n",
    "class Config:\n",
    "    AUTHOR = \"colum2131\"\n",
    "\n",
    "    NAME = \"NFLC-\" + \"lgbm+xgb\"\n",
    "\n",
    "    COMPETITION = \"nfl-player-contact-detection\"\n",
    "\n",
    "    seed = 42\n",
    "    num_fold = 5\n",
    "    \n",
    "    lgbm_params = {\n",
    "        'objective': 'binary',\n",
    "        'metric': 'auc',\n",
    "        'learning_rate':0.03,\n",
    "        'lambda_l1': 2.757654517864576e-06, \n",
    "        'lambda_l2': 0.018135558360332416, \n",
    "        'num_leaves': 254, \n",
    "        'feature_fraction': 0.9083150639158681, \n",
    "        'bagging_fraction': 0.7563425196831307, \n",
    "        'bagging_freq': 5, \n",
    "        'min_child_samples': 33\n",
    "    }\n",
    "    xgb_params = {\n",
    "        'objective': 'binary:logistic',\n",
    "        'eval_metric': 'auc',\n",
    "        'learning_rate':0.03,\n",
    "        'verbosity': 2,\n",
    "        'booster': 'gbtree', \n",
    "        'lambda': 2.2456853514324213e-05, \n",
    "        'alpha': 0.010167492143658599, \n",
    "        'max_depth': 10, \n",
    "        'eta': 0.3119573893909086, \n",
    "        'gamma': 3.858135609025019e-05, \n",
    "        'colsample_bytree': 0.4158915520852815, \n",
    "        'colsample_bylevel': 0.605320595063157, \n",
    "        'subsample': 0.9302938053468902, \n",
    "        'min_child_weight': 0.1204339344286855,\n",
    "        'tree_method':'hist' if not torch.cuda.is_available() else 'gpu_hist'\n",
    "    }"
   ]
  },
  {
   "cell_type": "code",
   "execution_count": 2,
   "id": "c2fc02ee",
   "metadata": {
    "execution": {
     "iopub.execute_input": "2023-02-28T04:11:49.390676Z",
     "iopub.status.busy": "2023-02-28T04:11:49.388989Z",
     "iopub.status.idle": "2023-02-28T04:11:54.003323Z",
     "shell.execute_reply": "2023-02-28T04:11:54.002347Z"
    },
    "papermill": {
     "duration": 4.622371,
     "end_time": "2023-02-28T04:11:54.005751",
     "exception": false,
     "start_time": "2023-02-28T04:11:49.383380",
     "status": "completed"
    },
    "tags": []
   },
   "outputs": [
    {
     "data": {
      "text/html": [
       "<style type='text/css'>\n",
       ".datatable table.frame { margin-bottom: 0; }\n",
       ".datatable table.frame thead { border-bottom: none; }\n",
       ".datatable table.frame tr.coltypes td {  color: #FFFFFF;  line-height: 6px;  padding: 0 0.5em;}\n",
       ".datatable .bool    { background: #DDDD99; }\n",
       ".datatable .object  { background: #565656; }\n",
       ".datatable .int     { background: #5D9E5D; }\n",
       ".datatable .float   { background: #4040CC; }\n",
       ".datatable .str     { background: #CC4040; }\n",
       ".datatable .time    { background: #40CC40; }\n",
       ".datatable .row_index {  background: var(--jp-border-color3);  border-right: 1px solid var(--jp-border-color0);  color: var(--jp-ui-font-color3);  font-size: 9px;}\n",
       ".datatable .frame tbody td { text-align: left; }\n",
       ".datatable .frame tr.coltypes .row_index {  background: var(--jp-border-color0);}\n",
       ".datatable th:nth-child(2) { padding-left: 12px; }\n",
       ".datatable .hellipsis {  color: var(--jp-cell-editor-border-color);}\n",
       ".datatable .vellipsis {  background: var(--jp-layout-color0);  color: var(--jp-cell-editor-border-color);}\n",
       ".datatable .na {  color: var(--jp-cell-editor-border-color);  font-size: 80%;}\n",
       ".datatable .sp {  opacity: 0.25;}\n",
       ".datatable .footer { font-size: 9px; }\n",
       ".datatable .frame_dimensions {  background: var(--jp-border-color3);  border-top: 1px solid var(--jp-border-color0);  color: var(--jp-ui-font-color3);  display: inline-block;  opacity: 0.6;  padding: 1px 10px 1px 5px;}\n",
       "</style>\n"
      ],
      "text/plain": [
       "<IPython.core.display.HTML object>"
      ]
     },
     "metadata": {},
     "output_type": "display_data"
    }
   ],
   "source": [
    "import os\n",
    "import gc\n",
    "import subprocess\n",
    "\n",
    "import numpy as np\n",
    "import pandas as pd\n",
    "import matplotlib.pyplot as plt\n",
    "import matplotlib.patches as patches\n",
    "from IPython.display import Video, display\n",
    "\n",
    "from scipy.optimize import minimize\n",
    "import cv2\n",
    "from glob import glob\n",
    "from tqdm import tqdm\n",
    "\n",
    "from sklearn.model_selection import GroupKFold\n",
    "from sklearn.metrics import (\n",
    "    roc_auc_score,\n",
    "    matthews_corrcoef,\n",
    ")\n",
    "\n",
    "import xgboost as xgb\n",
    "import lightgbm as lgbm\n",
    "\n",
    "import torch\n",
    "\n",
    "if torch.cuda.is_available():\n",
    "    import cupy \n",
    "    import cudf\n",
    "    from cuml import ForestInference"
   ]
  },
  {
   "cell_type": "code",
   "execution_count": 3,
   "id": "92a6ab45",
   "metadata": {
    "execution": {
     "iopub.execute_input": "2023-02-28T04:11:54.017503Z",
     "iopub.status.busy": "2023-02-28T04:11:54.016832Z",
     "iopub.status.idle": "2023-02-28T04:11:54.024350Z",
     "shell.execute_reply": "2023-02-28T04:11:54.023482Z"
    },
    "papermill": {
     "duration": 0.01532,
     "end_time": "2023-02-28T04:11:54.026417",
     "exception": false,
     "start_time": "2023-02-28T04:11:54.011097",
     "status": "completed"
    },
    "tags": []
   },
   "outputs": [],
   "source": [
    "def setup(cfg):\n",
    "    cfg.device = torch.device('cuda' if torch.cuda.is_available() else 'cpu')\n",
    "    \n",
    "    # set dirs\n",
    "    cfg.INPUT = f'../input/{cfg.COMPETITION}'\n",
    "    cfg.EXP = cfg.NAME\n",
    "    cfg.OUTPUT_EXP = cfg.NAME\n",
    "    cfg.SUBMISSION = './'\n",
    "    cfg.DATASET = '../input/'\n",
    "\n",
    "    cfg.EXP_MODEL = os.path.join(cfg.EXP, 'model')\n",
    "    cfg.EXP_FIG = os.path.join(cfg.EXP, 'fig')\n",
    "    cfg.EXP_PREDS = os.path.join(cfg.EXP, 'preds')\n",
    "\n",
    "    # make dirs\n",
    "    for d in [cfg.EXP_MODEL, cfg.EXP_FIG, cfg.EXP_PREDS]:\n",
    "        os.makedirs(d, exist_ok=True)\n",
    "        \n",
    "    return cfg"
   ]
  },
  {
   "cell_type": "code",
   "execution_count": 4,
   "id": "8dc092b9",
   "metadata": {
    "execution": {
     "iopub.execute_input": "2023-02-28T04:11:54.037461Z",
     "iopub.status.busy": "2023-02-28T04:11:54.037193Z",
     "iopub.status.idle": "2023-02-28T04:11:54.063118Z",
     "shell.execute_reply": "2023-02-28T04:11:54.062096Z"
    },
    "papermill": {
     "duration": 0.034509,
     "end_time": "2023-02-28T04:11:54.065798",
     "exception": false,
     "start_time": "2023-02-28T04:11:54.031289",
     "status": "completed"
    },
    "tags": []
   },
   "outputs": [],
   "source": [
    "# ==============================\n",
    "# function\n",
    "# ==============================\n",
    "# ref: https://www.kaggle.com/code/robikscube/nfl-player-contact-detection-getting-started\n",
    "def add_contact_id(df):\n",
    "    # Create contact ids\n",
    "    df[\"contact_id\"] = (\n",
    "        df[\"game_play\"]\n",
    "        + \"_\"\n",
    "        + df[\"step\"].astype(\"str\")\n",
    "        + \"_\"\n",
    "        + df[\"nfl_player_id_1\"].astype(\"str\")\n",
    "        + \"_\"\n",
    "        + df[\"nfl_player_id_2\"].astype(\"str\")\n",
    "    )\n",
    "    return df\n",
    "\n",
    "def expand_contact_id(df):\n",
    "    \"\"\"\n",
    "    Splits out contact_id into seperate columns.\n",
    "    \"\"\"\n",
    "    df[\"game_play\"] = df[\"contact_id\"].str[:12]\n",
    "    df[\"step\"] = df[\"contact_id\"].str.split(\"_\").str[-3].astype(\"int\")\n",
    "    df[\"nfl_player_id_1\"] = df[\"contact_id\"].str.split(\"_\").str[-2]\n",
    "    df[\"nfl_player_id_2\"] = df[\"contact_id\"].str.split(\"_\").str[-1]\n",
    "    return df\n",
    "\n",
    "# cross validation\n",
    "def get_groupkfold(train, target_col, group_col, n_splits):\n",
    "    kf = GroupKFold(n_splits=n_splits)\n",
    "    generator = kf.split(train, train[target_col], train[group_col])\n",
    "    fold_series = []\n",
    "    for fold, (idx_train, idx_valid) in enumerate(generator):\n",
    "        fold_series.append(pd.Series(fold, index=idx_valid))\n",
    "    fold_series = pd.concat(fold_series).sort_index()\n",
    "    return fold_series\n",
    "\n",
    "# lgbm code\n",
    "def fit_lgbm(cfg, X, y, params, add_suffix=''):\n",
    "\n",
    "    oof_pred = np.zeros(len(y), dtype=np.float32)\n",
    "    for fold in sorted(cfg.folds.unique()):\n",
    "        if fold == -1: continue\n",
    "        idx_train = (cfg.folds!=fold)\n",
    "        idx_valid = (cfg.folds==fold)\n",
    "        x_train, y_train = X[idx_train], y[idx_train]\n",
    "        x_valid, y_valid = X[idx_valid], y[idx_valid]\n",
    "        display(pd.Series(y_valid).value_counts())\n",
    "\n",
    "        lgbm_train = lgbm.Dataset(x_train, label=y_train)\n",
    "        lgbm_valid = lgbm.Dataset(x_valid, label=y_valid)\n",
    "        evals = [lgbm_train, lgbm_valid]\n",
    "\n",
    "        model = lgbm.train(\n",
    "            params,\n",
    "            lgbm_train,\n",
    "            num_boost_round=10_000,\n",
    "            early_stopping_rounds=100,\n",
    "            valid_sets=evals,\n",
    "            verbose_eval=100,\n",
    "        )\n",
    "\n",
    "        model_path = os.path.join(cfg.EXP_MODEL, f'lgbm_fold{fold}{add_suffix}.model')\n",
    "        model.save_model(model_path)\n",
    "        if not torch.cuda.is_available():\n",
    "            model = lgbm.Booster(model_file=model_path)\n",
    "        else:\n",
    "            model = ForestInference.load(model_path, output_class=True, model_type='lightgbm')\n",
    "        pred_i = model.predict(x_valid)\n",
    "        oof_pred[x_valid.index] = pred_i\n",
    "        score = round(roc_auc_score(y_valid, pred_i), 5)\n",
    "        print(f'Performance of the prediction: {score}\\n')\n",
    "        del model; gc.collect()\n",
    "\n",
    "    np.save(os.path.join(cfg.EXP_PREDS, f'oof_pred{add_suffix}'), oof_pred)\n",
    "    score = round(roc_auc_score(y, oof_pred), 5)\n",
    "    print(f'All Performance of the prediction: {score}')\n",
    "    return oof_pred\n",
    "\n",
    "def pred_lgbm(X, data_dir, add_suffix=''):\n",
    "    models = glob(os.path.join(data_dir, f'lgbm_fold*{add_suffix}.model'))\n",
    "    models = [lgbm.Booster(model_file=model_path) for model_path in models]\n",
    "    preds = np.array([model.predict(X) for model in models])\n",
    "    preds = np.mean(preds, axis=0)\n",
    "    return preds\n",
    "\n",
    "# xgboost code\n",
    "def fit_xgboost(cfg, X, y, params, add_suffix=''):\n",
    "    \"\"\"\n",
    "    xgb_params = {\n",
    "        'objective': 'binary:logistic',\n",
    "        'eval_metric': 'auc',\n",
    "        'learning_rate':0.01,\n",
    "        'tree_method':'gpu_hist'\n",
    "    }\n",
    "    \"\"\"\n",
    "    oof_pred = np.zeros(len(y), dtype=np.float32)\n",
    "    for fold in sorted(cfg.folds.unique()):\n",
    "        if fold == -1: continue\n",
    "        idx_train = (cfg.folds!=fold)\n",
    "        idx_valid = (cfg.folds==fold)\n",
    "        x_train, y_train = X[idx_train], y[idx_train]\n",
    "        x_valid, y_valid = X[idx_valid], y[idx_valid]\n",
    "        display(pd.Series(y_valid).value_counts())\n",
    "\n",
    "        xgb_train = xgb.DMatrix(x_train, label=y_train)\n",
    "        xgb_valid = xgb.DMatrix(x_valid, label=y_valid)\n",
    "        evals = [(xgb_train,'train'),(xgb_valid,'eval')]\n",
    "\n",
    "        model = xgb.train(\n",
    "            params,\n",
    "            xgb_train,\n",
    "            num_boost_round=10_000,\n",
    "            early_stopping_rounds=100,\n",
    "            evals=evals,\n",
    "            verbose_eval=100,\n",
    "        )\n",
    "\n",
    "        model_path = os.path.join(cfg.EXP_MODEL, f'xgb_fold{fold}{add_suffix}.model')\n",
    "        model.save_model(model_path)\n",
    "        if not torch.cuda.is_available():\n",
    "            model = xgb.Booster().load_model(model_path)\n",
    "        else:\n",
    "            model = ForestInference.load(model_path, output_class=True, model_type='xgboost')\n",
    "        pred_i = model.predict_proba(x_valid)[:, 1]\n",
    "        oof_pred[x_valid.index] = pred_i\n",
    "        score = round(roc_auc_score(y_valid, pred_i), 5)\n",
    "        print(f'Performance of the prediction: {score}\\n')\n",
    "        del model; gc.collect()\n",
    "\n",
    "    np.save(os.path.join(cfg.EXP_PREDS, f'oof_pred{add_suffix}'), oof_pred)\n",
    "    score = round(roc_auc_score(y, oof_pred), 5)\n",
    "    print(f'All Performance of the prediction: {score}')\n",
    "    return oof_pred\n",
    "\n",
    "def pred_xgboost(X, data_dir, add_suffix=''):\n",
    "    models = glob(os.path.join(data_dir, f'xgb_fold*{add_suffix}.model'))\n",
    "    if not torch.cuda.is_available():\n",
    "         models = [xgb.Booster().load_model(model_path) for model in models]\n",
    "    else:\n",
    "        models = [ForestInference.load(model, output_class=True, model_type='xgboost') for model in models]\n",
    "    preds = np.array([model.predict_proba(X)[:, 1] for model in models])\n",
    "    preds = np.mean(preds, axis=0)\n",
    "    return preds"
   ]
  },
  {
   "cell_type": "code",
   "execution_count": 5,
   "id": "ad03d115",
   "metadata": {
    "execution": {
     "iopub.execute_input": "2023-02-28T04:11:54.076842Z",
     "iopub.status.busy": "2023-02-28T04:11:54.076572Z",
     "iopub.status.idle": "2023-02-28T04:12:07.933053Z",
     "shell.execute_reply": "2023-02-28T04:12:07.932063Z"
    },
    "papermill": {
     "duration": 13.864952,
     "end_time": "2023-02-28T04:12:07.935643",
     "exception": false,
     "start_time": "2023-02-28T04:11:54.070691",
     "status": "completed"
    },
    "tags": []
   },
   "outputs": [],
   "source": [
    "# ==============================\n",
    "# read data\n",
    "# ==============================\n",
    "cfg = setup(Config)\n",
    "\n",
    "if not torch.cuda.is_available():\n",
    "    tr_tracking = pd.read_csv(os.path.join(cfg.INPUT, 'train_player_tracking.csv'), parse_dates=[\"datetime\"])\n",
    "    te_tracking = pd.read_csv(os.path.join(cfg.INPUT, 'test_player_tracking.csv'), parse_dates=[\"datetime\"])\n",
    "    # tr_helmets = pd.read_csv(os.path.join(cfg.INPUT, 'train_baseline_helmets.csv'))\n",
    "    # te_helmets = pd.read_csv(os.path.join(cfg.INPUT, 'test_baseline_helmets.csv'))\n",
    "    # tr_video_metadata = pd.read_csv(os.path.join(cfg.INPUT, 'train_video_metadata.csv'))\n",
    "    # te_video_metadata = pd.read_csv(os.path.join(cfg.INPUT, 'test_video_metadata.csv'))\n",
    "    sub = pd.read_csv(os.path.join(cfg.INPUT, 'sample_submission.csv'))\n",
    "\n",
    "    train = pd.read_csv(os.path.join(cfg.INPUT, 'train_labels.csv'), parse_dates=[\"datetime\"])\n",
    "    test = expand_contact_id(sub)\n",
    "    \n",
    "else:\n",
    "    tr_tracking = cudf.read_csv(os.path.join(cfg.INPUT, 'train_player_tracking.csv'), parse_dates=[\"datetime\"])\n",
    "    te_tracking = cudf.read_csv(os.path.join(cfg.INPUT, 'test_player_tracking.csv'), parse_dates=[\"datetime\"])\n",
    "    # tr_helmets = cudf.read_csv(os.path.join(cfg.INPUT, 'train_baseline_helmets.csv'))\n",
    "    # te_helmets = cudf.read_csv(os.path.join(cfg.INPUT, 'test_baseline_helmets.csv'))\n",
    "    # tr_video_metadata = cudf.read_csv(os.path.join(cfg.INPUT, 'train_video_metadata.csv'))\n",
    "    # te_video_metadata = cudf.read_csv(os.path.join(cfg.INPUT, 'test_video_metadata.csv'))\n",
    "    sub = pd.read_csv(os.path.join(cfg.INPUT, 'sample_submission.csv'))\n",
    "\n",
    "    train = cudf.read_csv(os.path.join(cfg.INPUT, 'train_labels.csv'), parse_dates=[\"datetime\"])\n",
    "    test = cudf.DataFrame(expand_contact_id(sub))"
   ]
  },
  {
   "cell_type": "markdown",
   "id": "864dee0f",
   "metadata": {
    "papermill": {
     "duration": 0.004608,
     "end_time": "2023-02-28T04:12:07.945607",
     "exception": false,
     "start_time": "2023-02-28T04:12:07.940999",
     "status": "completed"
    },
    "tags": []
   },
   "source": [
    "The following code is used to create the features.  \n",
    "Basically, the numerical features contained in player_tracking.csv are merged into player_id_1 and player_id_2 respectively."
   ]
  },
  {
   "cell_type": "code",
   "execution_count": 6,
   "id": "a4795a93",
   "metadata": {
    "execution": {
     "iopub.execute_input": "2023-02-28T04:12:07.956929Z",
     "iopub.status.busy": "2023-02-28T04:12:07.956587Z",
     "iopub.status.idle": "2023-02-28T04:12:15.624377Z",
     "shell.execute_reply": "2023-02-28T04:12:15.623420Z"
    },
    "papermill": {
     "duration": 7.675643,
     "end_time": "2023-02-28T04:12:15.626383",
     "exception": false,
     "start_time": "2023-02-28T04:12:07.950740",
     "status": "completed"
    },
    "tags": []
   },
   "outputs": [
    {
     "data": {
      "text/html": [
       "<div>\n",
       "<style scoped>\n",
       "    .dataframe tbody tr th:only-of-type {\n",
       "        vertical-align: middle;\n",
       "    }\n",
       "\n",
       "    .dataframe tbody tr th {\n",
       "        vertical-align: top;\n",
       "    }\n",
       "\n",
       "    .dataframe thead th {\n",
       "        text-align: right;\n",
       "    }\n",
       "</style>\n",
       "<table border=\"1\" class=\"dataframe\">\n",
       "  <thead>\n",
       "    <tr style=\"text-align: right;\">\n",
       "      <th></th>\n",
       "      <th>contact_id</th>\n",
       "      <th>game_play</th>\n",
       "      <th>datetime</th>\n",
       "      <th>step</th>\n",
       "      <th>nfl_player_id_1</th>\n",
       "      <th>nfl_player_id_2</th>\n",
       "      <th>contact</th>\n",
       "      <th>x_position_1</th>\n",
       "      <th>y_position_1</th>\n",
       "      <th>speed_1</th>\n",
       "      <th>...</th>\n",
       "      <th>x_position_2</th>\n",
       "      <th>y_position_2</th>\n",
       "      <th>speed_2</th>\n",
       "      <th>distance_2</th>\n",
       "      <th>direction_2</th>\n",
       "      <th>orientation_2</th>\n",
       "      <th>acceleration_2</th>\n",
       "      <th>sa_2</th>\n",
       "      <th>distance</th>\n",
       "      <th>G_flug</th>\n",
       "    </tr>\n",
       "  </thead>\n",
       "  <tbody>\n",
       "    <tr>\n",
       "      <th>0</th>\n",
       "      <td>58168_003392_0_37084_37211</td>\n",
       "      <td>58168_003392</td>\n",
       "      <td>2020-09-11 03:01:48.100</td>\n",
       "      <td>0</td>\n",
       "      <td>37084</td>\n",
       "      <td>37211</td>\n",
       "      <td>0</td>\n",
       "      <td>41.90</td>\n",
       "      <td>20.08</td>\n",
       "      <td>0.54</td>\n",
       "      <td>...</td>\n",
       "      <td>39.59</td>\n",
       "      <td>17.07</td>\n",
       "      <td>0.53</td>\n",
       "      <td>0.05</td>\n",
       "      <td>134.84</td>\n",
       "      <td>84.73</td>\n",
       "      <td>1.43</td>\n",
       "      <td>1.42</td>\n",
       "      <td>3.794232</td>\n",
       "      <td>False</td>\n",
       "    </tr>\n",
       "    <tr>\n",
       "      <th>1</th>\n",
       "      <td>58168_003392_0_37084_38556</td>\n",
       "      <td>58168_003392</td>\n",
       "      <td>2020-09-11 03:01:48.100</td>\n",
       "      <td>0</td>\n",
       "      <td>37084</td>\n",
       "      <td>38556</td>\n",
       "      <td>0</td>\n",
       "      <td>41.90</td>\n",
       "      <td>20.08</td>\n",
       "      <td>0.54</td>\n",
       "      <td>...</td>\n",
       "      <td>41.93</td>\n",
       "      <td>30.61</td>\n",
       "      <td>0.67</td>\n",
       "      <td>0.05</td>\n",
       "      <td>232.50</td>\n",
       "      <td>227.00</td>\n",
       "      <td>1.82</td>\n",
       "      <td>1.61</td>\n",
       "      <td>10.530043</td>\n",
       "      <td>False</td>\n",
       "    </tr>\n",
       "    <tr>\n",
       "      <th>2</th>\n",
       "      <td>58168_003392_0_37084_38567</td>\n",
       "      <td>58168_003392</td>\n",
       "      <td>2020-09-11 03:01:48.100</td>\n",
       "      <td>0</td>\n",
       "      <td>37084</td>\n",
       "      <td>38567</td>\n",
       "      <td>0</td>\n",
       "      <td>41.90</td>\n",
       "      <td>20.08</td>\n",
       "      <td>0.54</td>\n",
       "      <td>...</td>\n",
       "      <td>40.37</td>\n",
       "      <td>19.88</td>\n",
       "      <td>0.66</td>\n",
       "      <td>0.07</td>\n",
       "      <td>136.70</td>\n",
       "      <td>88.92</td>\n",
       "      <td>0.90</td>\n",
       "      <td>0.89</td>\n",
       "      <td>1.543017</td>\n",
       "      <td>False</td>\n",
       "    </tr>\n",
       "    <tr>\n",
       "      <th>3</th>\n",
       "      <td>58168_003392_0_37084_38590</td>\n",
       "      <td>58168_003392</td>\n",
       "      <td>2020-09-11 03:01:48.100</td>\n",
       "      <td>0</td>\n",
       "      <td>37084</td>\n",
       "      <td>38590</td>\n",
       "      <td>0</td>\n",
       "      <td>41.90</td>\n",
       "      <td>20.08</td>\n",
       "      <td>0.54</td>\n",
       "      <td>...</td>\n",
       "      <td>40.33</td>\n",
       "      <td>25.28</td>\n",
       "      <td>0.52</td>\n",
       "      <td>0.06</td>\n",
       "      <td>141.08</td>\n",
       "      <td>100.37</td>\n",
       "      <td>0.59</td>\n",
       "      <td>0.58</td>\n",
       "      <td>5.431841</td>\n",
       "      <td>False</td>\n",
       "    </tr>\n",
       "    <tr>\n",
       "      <th>4</th>\n",
       "      <td>58168_003392_0_37084_39947</td>\n",
       "      <td>58168_003392</td>\n",
       "      <td>2020-09-11 03:01:48.100</td>\n",
       "      <td>0</td>\n",
       "      <td>37084</td>\n",
       "      <td>39947</td>\n",
       "      <td>0</td>\n",
       "      <td>41.90</td>\n",
       "      <td>20.08</td>\n",
       "      <td>0.54</td>\n",
       "      <td>...</td>\n",
       "      <td>40.11</td>\n",
       "      <td>26.73</td>\n",
       "      <td>0.99</td>\n",
       "      <td>0.09</td>\n",
       "      <td>163.38</td>\n",
       "      <td>90.69</td>\n",
       "      <td>1.68</td>\n",
       "      <td>1.64</td>\n",
       "      <td>6.886697</td>\n",
       "      <td>False</td>\n",
       "    </tr>\n",
       "    <tr>\n",
       "      <th>...</th>\n",
       "      <td>...</td>\n",
       "      <td>...</td>\n",
       "      <td>...</td>\n",
       "      <td>...</td>\n",
       "      <td>...</td>\n",
       "      <td>...</td>\n",
       "      <td>...</td>\n",
       "      <td>...</td>\n",
       "      <td>...</td>\n",
       "      <td>...</td>\n",
       "      <td>...</td>\n",
       "      <td>...</td>\n",
       "      <td>...</td>\n",
       "      <td>...</td>\n",
       "      <td>...</td>\n",
       "      <td>...</td>\n",
       "      <td>...</td>\n",
       "      <td>...</td>\n",
       "      <td>...</td>\n",
       "      <td>...</td>\n",
       "      <td>...</td>\n",
       "    </tr>\n",
       "    <tr>\n",
       "      <th>4721613</th>\n",
       "      <td>58582_003121_91_52500_52619</td>\n",
       "      <td>58582_003121</td>\n",
       "      <td>2021-10-12 02:42:29.100</td>\n",
       "      <td>91</td>\n",
       "      <td>52500</td>\n",
       "      <td>52619</td>\n",
       "      <td>0</td>\n",
       "      <td>58.74</td>\n",
       "      <td>40.11</td>\n",
       "      <td>1.34</td>\n",
       "      <td>...</td>\n",
       "      <td>58.90</td>\n",
       "      <td>22.09</td>\n",
       "      <td>1.32</td>\n",
       "      <td>0.14</td>\n",
       "      <td>74.21</td>\n",
       "      <td>47.63</td>\n",
       "      <td>0.96</td>\n",
       "      <td>-0.44</td>\n",
       "      <td>18.020710</td>\n",
       "      <td>False</td>\n",
       "    </tr>\n",
       "    <tr>\n",
       "      <th>4721614</th>\n",
       "      <td>58582_003121_91_52500_G</td>\n",
       "      <td>58582_003121</td>\n",
       "      <td>2021-10-12 02:42:29.100</td>\n",
       "      <td>91</td>\n",
       "      <td>52500</td>\n",
       "      <td>G</td>\n",
       "      <td>0</td>\n",
       "      <td>58.74</td>\n",
       "      <td>40.11</td>\n",
       "      <td>1.34</td>\n",
       "      <td>...</td>\n",
       "      <td>NaN</td>\n",
       "      <td>NaN</td>\n",
       "      <td>NaN</td>\n",
       "      <td>NaN</td>\n",
       "      <td>NaN</td>\n",
       "      <td>NaN</td>\n",
       "      <td>NaN</td>\n",
       "      <td>NaN</td>\n",
       "      <td>NaN</td>\n",
       "      <td>True</td>\n",
       "    </tr>\n",
       "    <tr>\n",
       "      <th>4721615</th>\n",
       "      <td>58582_003121_91_52609_52619</td>\n",
       "      <td>58582_003121</td>\n",
       "      <td>2021-10-12 02:42:29.100</td>\n",
       "      <td>91</td>\n",
       "      <td>52609</td>\n",
       "      <td>52619</td>\n",
       "      <td>0</td>\n",
       "      <td>60.32</td>\n",
       "      <td>25.93</td>\n",
       "      <td>1.38</td>\n",
       "      <td>...</td>\n",
       "      <td>58.90</td>\n",
       "      <td>22.09</td>\n",
       "      <td>1.32</td>\n",
       "      <td>0.14</td>\n",
       "      <td>74.21</td>\n",
       "      <td>47.63</td>\n",
       "      <td>0.96</td>\n",
       "      <td>-0.44</td>\n",
       "      <td>4.094142</td>\n",
       "      <td>False</td>\n",
       "    </tr>\n",
       "    <tr>\n",
       "      <th>4721616</th>\n",
       "      <td>58582_003121_91_52609_G</td>\n",
       "      <td>58582_003121</td>\n",
       "      <td>2021-10-12 02:42:29.100</td>\n",
       "      <td>91</td>\n",
       "      <td>52609</td>\n",
       "      <td>G</td>\n",
       "      <td>0</td>\n",
       "      <td>60.32</td>\n",
       "      <td>25.93</td>\n",
       "      <td>1.38</td>\n",
       "      <td>...</td>\n",
       "      <td>NaN</td>\n",
       "      <td>NaN</td>\n",
       "      <td>NaN</td>\n",
       "      <td>NaN</td>\n",
       "      <td>NaN</td>\n",
       "      <td>NaN</td>\n",
       "      <td>NaN</td>\n",
       "      <td>NaN</td>\n",
       "      <td>NaN</td>\n",
       "      <td>True</td>\n",
       "    </tr>\n",
       "    <tr>\n",
       "      <th>4721617</th>\n",
       "      <td>58582_003121_91_52619_G</td>\n",
       "      <td>58582_003121</td>\n",
       "      <td>2021-10-12 02:42:29.100</td>\n",
       "      <td>91</td>\n",
       "      <td>52619</td>\n",
       "      <td>G</td>\n",
       "      <td>0</td>\n",
       "      <td>58.90</td>\n",
       "      <td>22.09</td>\n",
       "      <td>1.32</td>\n",
       "      <td>...</td>\n",
       "      <td>NaN</td>\n",
       "      <td>NaN</td>\n",
       "      <td>NaN</td>\n",
       "      <td>NaN</td>\n",
       "      <td>NaN</td>\n",
       "      <td>NaN</td>\n",
       "      <td>NaN</td>\n",
       "      <td>NaN</td>\n",
       "      <td>NaN</td>\n",
       "      <td>True</td>\n",
       "    </tr>\n",
       "  </tbody>\n",
       "</table>\n",
       "<p>4721618 rows × 25 columns</p>\n",
       "</div>"
      ],
      "text/plain": [
       "                          contact_id     game_play                datetime  \\\n",
       "0         58168_003392_0_37084_37211  58168_003392 2020-09-11 03:01:48.100   \n",
       "1         58168_003392_0_37084_38556  58168_003392 2020-09-11 03:01:48.100   \n",
       "2         58168_003392_0_37084_38567  58168_003392 2020-09-11 03:01:48.100   \n",
       "3         58168_003392_0_37084_38590  58168_003392 2020-09-11 03:01:48.100   \n",
       "4         58168_003392_0_37084_39947  58168_003392 2020-09-11 03:01:48.100   \n",
       "...                              ...           ...                     ...   \n",
       "4721613  58582_003121_91_52500_52619  58582_003121 2021-10-12 02:42:29.100   \n",
       "4721614      58582_003121_91_52500_G  58582_003121 2021-10-12 02:42:29.100   \n",
       "4721615  58582_003121_91_52609_52619  58582_003121 2021-10-12 02:42:29.100   \n",
       "4721616      58582_003121_91_52609_G  58582_003121 2021-10-12 02:42:29.100   \n",
       "4721617      58582_003121_91_52619_G  58582_003121 2021-10-12 02:42:29.100   \n",
       "\n",
       "         step nfl_player_id_1 nfl_player_id_2  contact  x_position_1  \\\n",
       "0           0           37084           37211        0         41.90   \n",
       "1           0           37084           38556        0         41.90   \n",
       "2           0           37084           38567        0         41.90   \n",
       "3           0           37084           38590        0         41.90   \n",
       "4           0           37084           39947        0         41.90   \n",
       "...       ...             ...             ...      ...           ...   \n",
       "4721613    91           52500           52619        0         58.74   \n",
       "4721614    91           52500               G        0         58.74   \n",
       "4721615    91           52609           52619        0         60.32   \n",
       "4721616    91           52609               G        0         60.32   \n",
       "4721617    91           52619               G        0         58.90   \n",
       "\n",
       "         y_position_1  speed_1  ...  x_position_2  y_position_2  speed_2  \\\n",
       "0               20.08     0.54  ...         39.59         17.07     0.53   \n",
       "1               20.08     0.54  ...         41.93         30.61     0.67   \n",
       "2               20.08     0.54  ...         40.37         19.88     0.66   \n",
       "3               20.08     0.54  ...         40.33         25.28     0.52   \n",
       "4               20.08     0.54  ...         40.11         26.73     0.99   \n",
       "...               ...      ...  ...           ...           ...      ...   \n",
       "4721613         40.11     1.34  ...         58.90         22.09     1.32   \n",
       "4721614         40.11     1.34  ...           NaN           NaN      NaN   \n",
       "4721615         25.93     1.38  ...         58.90         22.09     1.32   \n",
       "4721616         25.93     1.38  ...           NaN           NaN      NaN   \n",
       "4721617         22.09     1.32  ...           NaN           NaN      NaN   \n",
       "\n",
       "         distance_2  direction_2  orientation_2  acceleration_2  sa_2  \\\n",
       "0              0.05       134.84          84.73            1.43  1.42   \n",
       "1              0.05       232.50         227.00            1.82  1.61   \n",
       "2              0.07       136.70          88.92            0.90  0.89   \n",
       "3              0.06       141.08         100.37            0.59  0.58   \n",
       "4              0.09       163.38          90.69            1.68  1.64   \n",
       "...             ...          ...            ...             ...   ...   \n",
       "4721613        0.14        74.21          47.63            0.96 -0.44   \n",
       "4721614         NaN          NaN            NaN             NaN   NaN   \n",
       "4721615        0.14        74.21          47.63            0.96 -0.44   \n",
       "4721616         NaN          NaN            NaN             NaN   NaN   \n",
       "4721617         NaN          NaN            NaN             NaN   NaN   \n",
       "\n",
       "          distance  G_flug  \n",
       "0         3.794232   False  \n",
       "1        10.530043   False  \n",
       "2         1.543017   False  \n",
       "3         5.431841   False  \n",
       "4         6.886697   False  \n",
       "...            ...     ...  \n",
       "4721613  18.020710   False  \n",
       "4721614        NaN    True  \n",
       "4721615   4.094142   False  \n",
       "4721616        NaN    True  \n",
       "4721617        NaN    True  \n",
       "\n",
       "[4721618 rows x 25 columns]"
      ]
     },
     "metadata": {},
     "output_type": "display_data"
    }
   ],
   "source": [
    "# ==============================\n",
    "# feature engineering\n",
    "# ==============================\n",
    "def create_features(df, tr_tracking, merge_col=\"step\", use_cols=[\"x_position\", \"y_position\"]):\n",
    "    output_cols = []\n",
    "    df_combo = (\n",
    "        df.astype({\"nfl_player_id_1\": \"str\"})\n",
    "        .merge(\n",
    "            tr_tracking.astype({\"nfl_player_id\": \"str\"})[\n",
    "                [\"game_play\", merge_col, \"nfl_player_id\",] + use_cols\n",
    "            ],\n",
    "            left_on=[\"game_play\", merge_col, \"nfl_player_id_1\"],\n",
    "            right_on=[\"game_play\", merge_col, \"nfl_player_id\"],\n",
    "            how=\"left\",\n",
    "        )\n",
    "        .rename(columns={c: c+\"_1\" for c in use_cols})\n",
    "        .drop(\"nfl_player_id\", axis=1)\n",
    "        .merge(\n",
    "            tr_tracking.astype({\"nfl_player_id\": \"str\"})[\n",
    "                [\"game_play\", merge_col, \"nfl_player_id\"] + use_cols\n",
    "            ],\n",
    "            left_on=[\"game_play\", merge_col, \"nfl_player_id_2\"],\n",
    "            right_on=[\"game_play\", merge_col, \"nfl_player_id\"],\n",
    "            how=\"left\",\n",
    "        )\n",
    "        .drop(\"nfl_player_id\", axis=1)\n",
    "        .rename(columns={c: c+\"_2\" for c in use_cols})\n",
    "        .sort_values([\"game_play\", merge_col, \"nfl_player_id_1\", \"nfl_player_id_2\"])\n",
    "        .reset_index(drop=True)\n",
    "    )\n",
    "    output_cols += [c+\"_1\" for c in use_cols]\n",
    "    output_cols += [c+\"_2\" for c in use_cols]\n",
    "    \n",
    "    if (\"x_position\" in use_cols) & (\"y_position\" in use_cols):\n",
    "        index = df_combo['x_position_2'].notnull()\n",
    "        if torch.cuda.is_available():\n",
    "            index = index.to_array()\n",
    "        distance_arr = np.full(len(index), np.nan)\n",
    "        tmp_distance_arr = np.sqrt(\n",
    "            np.square(df_combo.loc[index, \"x_position_1\"] - df_combo.loc[index, \"x_position_2\"])\n",
    "            + np.square(df_combo.loc[index, \"y_position_1\"]- df_combo.loc[index, \"y_position_2\"])\n",
    "        )\n",
    "        if torch.cuda.is_available():\n",
    "            tmp_distance_arr = tmp_distance_arr.to_array()\n",
    "        distance_arr[index] = tmp_distance_arr\n",
    "        df_combo['distance'] = distance_arr\n",
    "        output_cols += [\"distance\"]\n",
    "        \n",
    "    df_combo['G_flug'] = (df_combo['nfl_player_id_2']==\"G\")\n",
    "    output_cols += [\"G_flug\"]\n",
    "    return df_combo, output_cols\n",
    "\n",
    "\n",
    "use_cols = [\n",
    "    'x_position', 'y_position', 'speed', 'distance',\n",
    "    'direction', 'orientation', 'acceleration', 'sa'\n",
    "]\n",
    "train, feature_cols = create_features(train, tr_tracking, use_cols=use_cols)\n",
    "test, feature_cols = create_features(test, te_tracking, use_cols=use_cols)\n",
    "if torch.cuda.is_available():\n",
    "    train = train.to_pandas()\n",
    "    test = test.to_pandas()\n",
    "\n",
    "display(train)"
   ]
  },
  {
   "cell_type": "markdown",
   "id": "21bf98c1",
   "metadata": {
    "papermill": {
     "duration": 0.005074,
     "end_time": "2023-02-28T04:12:15.637303",
     "exception": false,
     "start_time": "2023-02-28T04:12:15.632229",
     "status": "completed"
    },
    "tags": []
   },
   "source": [
    "# Exclude distance > 2\n",
    "if the distance between two players is greater than 2 then the probability of contact is so low, we will consider it = 0, training data will be reduced from 4.7 M rows to 660 K"
   ]
  },
  {
   "cell_type": "code",
   "execution_count": 7,
   "id": "789bad87",
   "metadata": {
    "execution": {
     "iopub.execute_input": "2023-02-28T04:12:15.648839Z",
     "iopub.status.busy": "2023-02-28T04:12:15.648539Z",
     "iopub.status.idle": "2023-02-28T04:12:16.078976Z",
     "shell.execute_reply": "2023-02-28T04:12:16.078003Z"
    },
    "papermill": {
     "duration": 0.438698,
     "end_time": "2023-02-28T04:12:16.081295",
     "exception": false,
     "start_time": "2023-02-28T04:12:15.642597",
     "status": "completed"
    },
    "tags": []
   },
   "outputs": [
    {
     "name": "stdout",
     "output_type": "stream",
     "text": [
      "number of train data :  660560\n"
     ]
    }
   ],
   "source": [
    "DISTANCE_THRESH = 2\n",
    "\n",
    "train_y = train['contact'].values\n",
    "oof_pred = np.zeros(len(train))\n",
    "cond_dis_train = (train['distance']<=DISTANCE_THRESH) | (train['distance'].isna())\n",
    "cond_dis_test = (test['distance']<=DISTANCE_THRESH) | (test['distance'].isna())\n",
    "\n",
    "train = train[cond_dis_train]\n",
    "train.reset_index(inplace = True, drop = True)\n",
    "\n",
    "print('number of train data : ',len(train))\n",
    "\n",
    "_ = gc.collect()"
   ]
  },
  {
   "cell_type": "markdown",
   "id": "c4772617",
   "metadata": {
    "papermill": {
     "duration": 0.005279,
     "end_time": "2023-02-28T04:12:16.091871",
     "exception": false,
     "start_time": "2023-02-28T04:12:16.086592",
     "status": "completed"
    },
    "tags": []
   },
   "source": [
    "# Helmet track Features"
   ]
  },
  {
   "cell_type": "code",
   "execution_count": 8,
   "id": "9ab30083",
   "metadata": {
    "execution": {
     "iopub.execute_input": "2023-02-28T04:12:16.103734Z",
     "iopub.status.busy": "2023-02-28T04:12:16.103454Z",
     "iopub.status.idle": "2023-02-28T04:14:42.673426Z",
     "shell.execute_reply": "2023-02-28T04:14:42.672273Z"
    },
    "papermill": {
     "duration": 146.579475,
     "end_time": "2023-02-28T04:14:42.676409",
     "exception": false,
     "start_time": "2023-02-28T04:12:16.096934",
     "status": "completed"
    },
    "tags": []
   },
   "outputs": [],
   "source": [
    "CLUSTERS = [10, 50, 100, 500]\n",
    "\n",
    "def add_step_pct(df, cluster):\n",
    "    df['step_pct'] = cluster * (df['step']-min(df['step']))/(max(df['step'])-min(df['step']))\n",
    "    df['step_pct'] = df['step_pct'].apply(np.ceil).astype(np.int32)\n",
    "    return df\n",
    "\n",
    "for cluster in CLUSTERS:\n",
    "    train = train.groupby('game_play').apply(lambda x:add_step_pct(x,cluster))\n",
    "    test = test.groupby('game_play').apply(lambda x:add_step_pct(x,cluster))\n",
    "\n",
    "    for helmet_view in ['Sideline', 'Endzone']:\n",
    "        helmet_train = pd.read_csv('/kaggle/input/nfl-player-contact-detection/train_baseline_helmets.csv')\n",
    "        helmet_train.loc[helmet_train['view']=='Endzone2','view'] = 'Endzone'\n",
    "        helmet_test = pd.read_csv('/kaggle/input/nfl-player-contact-detection/test_baseline_helmets.csv')\n",
    "        helmet_test.loc[helmet_test['view']=='Endzone2','view'] = 'Endzone'\n",
    "\n",
    "        helmet_train.rename(columns = {'frame': 'step'}, inplace = True)\n",
    "        helmet_train = helmet_train.groupby('game_play').apply(lambda x:add_step_pct(x,cluster))\n",
    "        helmet_test.rename(columns = {'frame': 'step'}, inplace = True)\n",
    "        helmet_test = helmet_test.groupby('game_play').apply(lambda x:add_step_pct(x,cluster))\n",
    "        helmet_train = helmet_train[helmet_train['view']==helmet_view]\n",
    "        helmet_test = helmet_test[helmet_test['view']==helmet_view]\n",
    "\n",
    "        helmet_train['helmet_id'] = helmet_train['game_play'] + '_' + helmet_train['nfl_player_id'].astype(str) + '_' + helmet_train['step_pct'].astype(str)\n",
    "        helmet_test['helmet_id'] = helmet_test['game_play'] + '_' + helmet_test['nfl_player_id'].astype(str) + '_' + helmet_test['step_pct'].astype(str)\n",
    "\n",
    "        helmet_train = helmet_train[['helmet_id', 'left', 'width', 'top', 'height']].groupby('helmet_id').mean().reset_index()\n",
    "        helmet_test = helmet_test[['helmet_id', 'left', 'width', 'top', 'height']].groupby('helmet_id').mean().reset_index()\n",
    "        for player_ind in [1, 2]:\n",
    "            train['helmet_id'] = train['game_play'] + '_' + train['nfl_player_id_'+str(player_ind)].astype(str) + \\\n",
    "                                    '_' + train['step_pct'].astype(str)\n",
    "            test['helmet_id'] = test['game_play'] + '_' + test['nfl_player_id_'+str(player_ind)].astype(str) + \\\n",
    "                                    '_' + test['step_pct'].astype(str)\n",
    "\n",
    "            train = train.merge(helmet_train, how = 'left')\n",
    "            test = test.merge(helmet_test, how = 'left')\n",
    "\n",
    "            train.rename(columns = {i:i+'_'+helmet_view+'_'+str(cluster)+'_'+str(player_ind) for i in ['left', 'width', 'top', 'height']}, inplace = True)\n",
    "            test.rename(columns = {i:i+'_'+helmet_view+'_'+str(cluster)+'_'+str(player_ind) for i in ['left', 'width', 'top', 'height']}, inplace = True)\n",
    "\n",
    "            del train['helmet_id'], test['helmet_id']\n",
    "            gc.collect()\n",
    "\n",
    "            feature_cols += [i+'_'+helmet_view+'_'+str(cluster)+'_'+str(player_ind) for i in ['left', 'width', 'top', 'height']]\n",
    "        del helmet_train, helmet_test\n",
    "        gc.collect()"
   ]
  },
  {
   "cell_type": "markdown",
   "id": "6182350d",
   "metadata": {
    "papermill": {
     "duration": 0.005808,
     "end_time": "2023-02-28T04:14:42.688623",
     "exception": false,
     "start_time": "2023-02-28T04:14:42.682815",
     "status": "completed"
    },
    "tags": []
   },
   "source": [
    "# Fill missing values for the ground"
   ]
  },
  {
   "cell_type": "code",
   "execution_count": 9,
   "id": "933d23c8",
   "metadata": {
    "execution": {
     "iopub.execute_input": "2023-02-28T04:14:42.703535Z",
     "iopub.status.busy": "2023-02-28T04:14:42.701634Z",
     "iopub.status.idle": "2023-02-28T04:14:43.127244Z",
     "shell.execute_reply": "2023-02-28T04:14:43.126296Z"
    },
    "papermill": {
     "duration": 0.435114,
     "end_time": "2023-02-28T04:14:43.129588",
     "exception": false,
     "start_time": "2023-02-28T04:14:42.694474",
     "status": "completed"
    },
    "tags": []
   },
   "outputs": [],
   "source": [
    "# 이 코드는 충돌 판정 시, 양쪽 선수의 위치 정보를 비슷하게 만들어주는 역할을 합니다.\n",
    "for cluster in CLUSTERS:\n",
    "    for helmet_view in ['Sideline', 'Endzone']:\n",
    "        train.loc[train['G_flug']==True,'left_'+helmet_view+'_'+str(cluster)+'_2'] = train.loc[train['G_flug']==True,'left_'+helmet_view+'_'+str(cluster)+'_1']\n",
    "        train.loc[train['G_flug']==True,'top_'+helmet_view+'_'+str(cluster)+'_2'] = train.loc[train['G_flug']==True,'top_'+helmet_view+'_'+str(cluster)+'_1']\n",
    "        train.loc[train['G_flug']==True,'width_'+helmet_view+'_'+str(cluster)+'_2'] = 0\n",
    "        train.loc[train['G_flug']==True,'height_'+helmet_view+'_'+str(cluster)+'_2'] = 0\n",
    "        \n",
    "        test.loc[test['G_flug']==True,'left_'+helmet_view+'_'+str(cluster)+'_2'] = test.loc[test['G_flug']==True,'left_'+helmet_view+'_'+str(cluster)+'_1']\n",
    "        test.loc[test['G_flug']==True,'top_'+helmet_view+'_'+str(cluster)+'_2'] = test.loc[test['G_flug']==True,'top_'+helmet_view+'_'+str(cluster)+'_1']\n",
    "        test.loc[test['G_flug']==True,'width_'+helmet_view+'_'+str(cluster)+'_2'] = 0\n",
    "        test.loc[test['G_flug']==True,'height_'+helmet_view+'_'+str(cluster)+'_2'] = 0"
   ]
  },
  {
   "cell_type": "markdown",
   "id": "1258cc2f",
   "metadata": {
    "papermill": {
     "duration": 0.005159,
     "end_time": "2023-02-28T04:14:43.140574",
     "exception": false,
     "start_time": "2023-02-28T04:14:43.135415",
     "status": "completed"
    },
    "tags": []
   },
   "source": [
    "# Diffrence & Product features"
   ]
  },
  {
   "cell_type": "code",
   "execution_count": 10,
   "id": "34cc6e32",
   "metadata": {
    "execution": {
     "iopub.execute_input": "2023-02-28T04:14:43.152197Z",
     "iopub.status.busy": "2023-02-28T04:14:43.151886Z",
     "iopub.status.idle": "2023-02-28T04:14:44.330689Z",
     "shell.execute_reply": "2023-02-28T04:14:44.329216Z"
    },
    "papermill": {
     "duration": 1.186843,
     "end_time": "2023-02-28T04:14:44.332721",
     "exception": false,
     "start_time": "2023-02-28T04:14:43.145878",
     "status": "completed"
    },
    "tags": []
   },
   "outputs": [
    {
     "name": "stdout",
     "output_type": "stream",
     "text": [
      "number of features :  130\n",
      "number of train data :  660560\n"
     ]
    }
   ],
   "source": [
    "cols = [i[:-2] for i in train.columns if i[-2:]=='_1' and i!='nfl_player_id_1']\n",
    "train[[i+'_diff' for i in cols]] = np.abs(train[[i+'_1' for i in cols]].values - train[[i+'_2' for i in cols]].values)\n",
    "test[[i+'_diff' for i in cols]] = np.abs(test[[i+'_1' for i in cols]].values - test[[i+'_2' for i in cols]].values)\n",
    "feature_cols += [i+'_diff' for i in cols]\n",
    "\n",
    "cols = ['x_position', 'y_position', 'speed', 'distance', 'direction', 'orientation', 'acceleration', 'sa']\n",
    "train[[i+'_prod' for i in cols]] = train[[i+'_1' for i in cols]].values * train[[i+'_2' for i in cols]].values\n",
    "test[[i+'_prod' for i in cols]] = test[[i+'_1' for i in cols]].values * test[[i+'_2' for i in cols]].values\n",
    "feature_cols += [i+'_prod' for i in cols]\n",
    "\n",
    "print('number of features : ',len(feature_cols))\n",
    "print('number of train data : ',len(train))"
   ]
  },
  {
   "cell_type": "markdown",
   "id": "0e21ef8f",
   "metadata": {
    "papermill": {
     "duration": 0.00552,
     "end_time": "2023-02-28T04:14:44.344191",
     "exception": false,
     "start_time": "2023-02-28T04:14:44.338671",
     "status": "completed"
    },
    "tags": []
   },
   "source": [
    "# Train & Infer XGBoost model"
   ]
  },
  {
   "cell_type": "code",
   "execution_count": 11,
   "id": "d2911e87",
   "metadata": {
    "execution": {
     "iopub.execute_input": "2023-02-28T04:14:44.356182Z",
     "iopub.status.busy": "2023-02-28T04:14:44.355850Z",
     "iopub.status.idle": "2023-02-28T04:57:18.275302Z",
     "shell.execute_reply": "2023-02-28T04:57:18.274194Z"
    },
    "papermill": {
     "duration": 2553.928235,
     "end_time": "2023-02-28T04:57:18.277745",
     "exception": false,
     "start_time": "2023-02-28T04:14:44.349510",
     "status": "completed"
    },
    "tags": []
   },
   "outputs": [
    {
     "data": {
      "text/plain": [
       "0    119036\n",
       "1     13030\n",
       "Name: contact, dtype: int64"
      ]
     },
     "metadata": {},
     "output_type": "display_data"
    },
    {
     "name": "stderr",
     "output_type": "stream",
     "text": [
      "/opt/conda/lib/python3.7/site-packages/lightgbm/engine.py:181: UserWarning: 'early_stopping_rounds' argument is deprecated and will be removed in a future release of LightGBM. Pass 'early_stopping()' callback via 'callbacks' argument instead.\n",
      "  _log_warning(\"'early_stopping_rounds' argument is deprecated and will be removed in a future release of LightGBM. \"\n",
      "/opt/conda/lib/python3.7/site-packages/lightgbm/engine.py:239: UserWarning: 'verbose_eval' argument is deprecated and will be removed in a future release of LightGBM. Pass 'log_evaluation()' callback via 'callbacks' argument instead.\n",
      "  _log_warning(\"'verbose_eval' argument is deprecated and will be removed in a future release of LightGBM. \"\n"
     ]
    },
    {
     "name": "stdout",
     "output_type": "stream",
     "text": [
      "[LightGBM] [Info] Number of positive: 51282, number of negative: 477212\n",
      "[LightGBM] [Warning] Auto-choosing col-wise multi-threading, the overhead of testing was 1.285192 seconds.\n",
      "You can set `force_col_wise=true` to remove the overhead.\n",
      "[LightGBM] [Info] Total Bins 30655\n",
      "[LightGBM] [Info] Number of data points in the train set: 528494, number of used features: 130\n",
      "[LightGBM] [Info] [binary:BoostFromScore]: pavg=0.097034 -> initscore=-2.230621\n",
      "[LightGBM] [Info] Start training from score -2.230621\n",
      "Training until validation scores don't improve for 100 rounds\n",
      "[100]\ttraining's auc: 0.981544\tvalid_1's auc: 0.950197\n",
      "[200]\ttraining's auc: 0.993653\tvalid_1's auc: 0.953455\n",
      "[300]\ttraining's auc: 0.997476\tvalid_1's auc: 0.954101\n",
      "[400]\ttraining's auc: 0.998981\tvalid_1's auc: 0.954428\n",
      "[500]\ttraining's auc: 0.999586\tvalid_1's auc: 0.954599\n",
      "[600]\ttraining's auc: 0.999838\tvalid_1's auc: 0.954467\n",
      "Early stopping, best iteration is:\n",
      "[533]\ttraining's auc: 0.999705\tvalid_1's auc: 0.954646\n",
      "[W] [04:25:20.494230] Treelite currently does not support float64 model parameters. Accuracy may degrade slightly relative to native LightGBM invocation.\n",
      "[W] [04:25:20.674964] Casting all thresholds and leaf values to float32, as FIL currently doesn't support inferencing models with float64 values. This may lead to predictions with reduced accuracy.\n",
      "Performance of the prediction: 0.78083\n",
      "\n"
     ]
    },
    {
     "data": {
      "text/plain": [
       "0    119555\n",
       "1     12629\n",
       "Name: contact, dtype: int64"
      ]
     },
     "metadata": {},
     "output_type": "display_data"
    },
    {
     "name": "stderr",
     "output_type": "stream",
     "text": [
      "/opt/conda/lib/python3.7/site-packages/lightgbm/engine.py:181: UserWarning: 'early_stopping_rounds' argument is deprecated and will be removed in a future release of LightGBM. Pass 'early_stopping()' callback via 'callbacks' argument instead.\n",
      "  _log_warning(\"'early_stopping_rounds' argument is deprecated and will be removed in a future release of LightGBM. \"\n",
      "/opt/conda/lib/python3.7/site-packages/lightgbm/engine.py:239: UserWarning: 'verbose_eval' argument is deprecated and will be removed in a future release of LightGBM. Pass 'log_evaluation()' callback via 'callbacks' argument instead.\n",
      "  _log_warning(\"'verbose_eval' argument is deprecated and will be removed in a future release of LightGBM. \"\n"
     ]
    },
    {
     "name": "stdout",
     "output_type": "stream",
     "text": [
      "[LightGBM] [Info] Number of positive: 51683, number of negative: 476693\n",
      "[LightGBM] [Warning] Auto-choosing col-wise multi-threading, the overhead of testing was 1.344112 seconds.\n",
      "You can set `force_col_wise=true` to remove the overhead.\n",
      "[LightGBM] [Info] Total Bins 30764\n",
      "[LightGBM] [Info] Number of data points in the train set: 528376, number of used features: 130\n",
      "[LightGBM] [Info] [binary:BoostFromScore]: pavg=0.097815 -> initscore=-2.221744\n",
      "[LightGBM] [Info] Start training from score -2.221744\n",
      "Training until validation scores don't improve for 100 rounds\n",
      "[100]\ttraining's auc: 0.982432\tvalid_1's auc: 0.943806\n",
      "[200]\ttraining's auc: 0.993948\tvalid_1's auc: 0.945622\n",
      "[300]\ttraining's auc: 0.997717\tvalid_1's auc: 0.946061\n",
      "[400]\ttraining's auc: 0.999059\tvalid_1's auc: 0.946186\n",
      "Early stopping, best iteration is:\n",
      "[390]\ttraining's auc: 0.998956\tvalid_1's auc: 0.946226\n",
      "[W] [04:33:46.787271] Treelite currently does not support float64 model parameters. Accuracy may degrade slightly relative to native LightGBM invocation.\n",
      "[W] [04:33:46.913346] Casting all thresholds and leaf values to float32, as FIL currently doesn't support inferencing models with float64 values. This may lead to predictions with reduced accuracy.\n",
      "Performance of the prediction: 0.77648\n",
      "\n"
     ]
    },
    {
     "data": {
      "text/plain": [
       "0    118545\n",
       "1     13620\n",
       "Name: contact, dtype: int64"
      ]
     },
     "metadata": {},
     "output_type": "display_data"
    },
    {
     "name": "stderr",
     "output_type": "stream",
     "text": [
      "/opt/conda/lib/python3.7/site-packages/lightgbm/engine.py:181: UserWarning: 'early_stopping_rounds' argument is deprecated and will be removed in a future release of LightGBM. Pass 'early_stopping()' callback via 'callbacks' argument instead.\n",
      "  _log_warning(\"'early_stopping_rounds' argument is deprecated and will be removed in a future release of LightGBM. \"\n",
      "/opt/conda/lib/python3.7/site-packages/lightgbm/engine.py:239: UserWarning: 'verbose_eval' argument is deprecated and will be removed in a future release of LightGBM. Pass 'log_evaluation()' callback via 'callbacks' argument instead.\n",
      "  _log_warning(\"'verbose_eval' argument is deprecated and will be removed in a future release of LightGBM. \"\n"
     ]
    },
    {
     "name": "stdout",
     "output_type": "stream",
     "text": [
      "[LightGBM] [Info] Number of positive: 50692, number of negative: 477703\n",
      "[LightGBM] [Warning] Auto-choosing col-wise multi-threading, the overhead of testing was 1.356188 seconds.\n",
      "You can set `force_col_wise=true` to remove the overhead.\n",
      "[LightGBM] [Info] Total Bins 30792\n",
      "[LightGBM] [Info] Number of data points in the train set: 528395, number of used features: 130\n",
      "[LightGBM] [Info] [binary:BoostFromScore]: pavg=0.095936 -> initscore=-2.243221\n",
      "[LightGBM] [Info] Start training from score -2.243221\n",
      "Training until validation scores don't improve for 100 rounds\n",
      "[100]\ttraining's auc: 0.983315\tvalid_1's auc: 0.940882\n",
      "[200]\ttraining's auc: 0.994312\tvalid_1's auc: 0.944081\n",
      "[300]\ttraining's auc: 0.997859\tvalid_1's auc: 0.944812\n",
      "[400]\ttraining's auc: 0.999176\tvalid_1's auc: 0.944941\n",
      "Early stopping, best iteration is:\n",
      "[330]\ttraining's auc: 0.998395\tvalid_1's auc: 0.945012\n",
      "[W] [04:41:20.898839] Treelite currently does not support float64 model parameters. Accuracy may degrade slightly relative to native LightGBM invocation.\n",
      "[W] [04:41:21.004896] Casting all thresholds and leaf values to float32, as FIL currently doesn't support inferencing models with float64 values. This may lead to predictions with reduced accuracy.\n",
      "Performance of the prediction: 0.76996\n",
      "\n"
     ]
    },
    {
     "data": {
      "text/plain": [
       "0    119615\n",
       "1     12566\n",
       "Name: contact, dtype: int64"
      ]
     },
     "metadata": {},
     "output_type": "display_data"
    },
    {
     "name": "stderr",
     "output_type": "stream",
     "text": [
      "/opt/conda/lib/python3.7/site-packages/lightgbm/engine.py:181: UserWarning: 'early_stopping_rounds' argument is deprecated and will be removed in a future release of LightGBM. Pass 'early_stopping()' callback via 'callbacks' argument instead.\n",
      "  _log_warning(\"'early_stopping_rounds' argument is deprecated and will be removed in a future release of LightGBM. \"\n",
      "/opt/conda/lib/python3.7/site-packages/lightgbm/engine.py:239: UserWarning: 'verbose_eval' argument is deprecated and will be removed in a future release of LightGBM. Pass 'log_evaluation()' callback via 'callbacks' argument instead.\n",
      "  _log_warning(\"'verbose_eval' argument is deprecated and will be removed in a future release of LightGBM. \"\n"
     ]
    },
    {
     "name": "stdout",
     "output_type": "stream",
     "text": [
      "[LightGBM] [Info] Number of positive: 51746, number of negative: 476633\n",
      "[LightGBM] [Warning] Auto-choosing col-wise multi-threading, the overhead of testing was 1.436705 seconds.\n",
      "You can set `force_col_wise=true` to remove the overhead.\n",
      "[LightGBM] [Info] Total Bins 30766\n",
      "[LightGBM] [Info] Number of data points in the train set: 528379, number of used features: 130\n",
      "[LightGBM] [Info] [binary:BoostFromScore]: pavg=0.097933 -> initscore=-2.220400\n",
      "[LightGBM] [Info] Start training from score -2.220400\n",
      "Training until validation scores don't improve for 100 rounds\n",
      "[100]\ttraining's auc: 0.982568\tvalid_1's auc: 0.939131\n",
      "[200]\ttraining's auc: 0.99393\tvalid_1's auc: 0.941419\n",
      "[300]\ttraining's auc: 0.997727\tvalid_1's auc: 0.942166\n",
      "[400]\ttraining's auc: 0.999109\tvalid_1's auc: 0.942388\n",
      "Early stopping, best iteration is:\n",
      "[381]\ttraining's auc: 0.998925\tvalid_1's auc: 0.942673\n",
      "[W] [04:49:41.432430] Treelite currently does not support float64 model parameters. Accuracy may degrade slightly relative to native LightGBM invocation.\n",
      "[W] [04:49:41.556245] Casting all thresholds and leaf values to float32, as FIL currently doesn't support inferencing models with float64 values. This may lead to predictions with reduced accuracy.\n",
      "Performance of the prediction: 0.77375\n",
      "\n"
     ]
    },
    {
     "data": {
      "text/plain": [
       "0    119497\n",
       "1     12467\n",
       "Name: contact, dtype: int64"
      ]
     },
     "metadata": {},
     "output_type": "display_data"
    },
    {
     "name": "stderr",
     "output_type": "stream",
     "text": [
      "/opt/conda/lib/python3.7/site-packages/lightgbm/engine.py:181: UserWarning: 'early_stopping_rounds' argument is deprecated and will be removed in a future release of LightGBM. Pass 'early_stopping()' callback via 'callbacks' argument instead.\n",
      "  _log_warning(\"'early_stopping_rounds' argument is deprecated and will be removed in a future release of LightGBM. \"\n",
      "/opt/conda/lib/python3.7/site-packages/lightgbm/engine.py:239: UserWarning: 'verbose_eval' argument is deprecated and will be removed in a future release of LightGBM. Pass 'log_evaluation()' callback via 'callbacks' argument instead.\n",
      "  _log_warning(\"'verbose_eval' argument is deprecated and will be removed in a future release of LightGBM. \"\n"
     ]
    },
    {
     "name": "stdout",
     "output_type": "stream",
     "text": [
      "[LightGBM] [Info] Number of positive: 51845, number of negative: 476751\n",
      "[LightGBM] [Warning] Auto-choosing col-wise multi-threading, the overhead of testing was 1.251039 seconds.\n",
      "You can set `force_col_wise=true` to remove the overhead.\n",
      "[LightGBM] [Info] Total Bins 30793\n",
      "[LightGBM] [Info] Number of data points in the train set: 528596, number of used features: 130\n",
      "[LightGBM] [Info] [binary:BoostFromScore]: pavg=0.098081 -> initscore=-2.218736\n",
      "[LightGBM] [Info] Start training from score -2.218736\n",
      "Training until validation scores don't improve for 100 rounds\n",
      "[100]\ttraining's auc: 0.98137\tvalid_1's auc: 0.943994\n",
      "[200]\ttraining's auc: 0.993658\tvalid_1's auc: 0.946329\n",
      "[300]\ttraining's auc: 0.997527\tvalid_1's auc: 0.946945\n",
      "[400]\ttraining's auc: 0.998946\tvalid_1's auc: 0.946849\n",
      "Early stopping, best iteration is:\n",
      "[335]\ttraining's auc: 0.998175\tvalid_1's auc: 0.947024\n",
      "[W] [04:57:14.215978] Treelite currently does not support float64 model parameters. Accuracy may degrade slightly relative to native LightGBM invocation.\n",
      "[W] [04:57:14.331593] Casting all thresholds and leaf values to float32, as FIL currently doesn't support inferencing models with float64 values. This may lead to predictions with reduced accuracy.\n",
      "Performance of the prediction: 0.77504\n",
      "\n",
      "All Performance of the prediction: 0.77519\n"
     ]
    }
   ],
   "source": [
    "# ==============================\n",
    "# training & inference\n",
    "# ==============================\n",
    "\n",
    "cfg.folds = get_groupkfold(train, 'contact', 'game_play', cfg.num_fold)\n",
    "cfg.folds.to_csv(os.path.join(cfg.EXP_PREDS, 'folds.csv'), index=False)\n",
    "\n",
    "oof_pred[np.where(cond_dis_train)] = fit_lgbm(cfg, train[feature_cols], train['contact'], \n",
    "                                              cfg.lgbm_params, add_suffix=\"_lgbm_1st\")\n",
    "np.save('oof_pred_1.npy',oof_pred)\n",
    "sub_pred_1 = pred_lgbm(test.loc[cond_dis_test, feature_cols], cfg.EXP_MODEL, add_suffix=\"_lgbm_1st\")"
   ]
  },
  {
   "cell_type": "code",
   "execution_count": null,
   "id": "cc4b730f",
   "metadata": {},
   "outputs": [],
   "source": [
    "def func(x_list):\n",
    "    score = matthews_corrcoef(train_y, oof_pred>x_list[0])\n",
    "    return -score\n",
    "\n",
    "x0 = [0.5]\n",
    "result = minimize(func, x0,  method=\"nelder-mead\")\n",
    "cfg.threshold = result.x[0]\n",
    "print(\"score:\", round(matthews_corrcoef(train_y, oof_pred>cfg.threshold), 5))\n",
    "print(\"threshold\", round(cfg.threshold, 5))\n",
    "\n",
    "sub_pred_1 = (sub_pred_1 > cfg.threshold).astype(int)\n",
    "# sub_pred_1이 6631개의 0,1 값으로 변경되는지 확인\n",
    "sub_pred_1"
   ]
  },
  {
   "cell_type": "code",
   "execution_count": 12,
   "id": "cc9582a8",
   "metadata": {
    "execution": {
     "iopub.execute_input": "2023-02-28T04:57:18.298734Z",
     "iopub.status.busy": "2023-02-28T04:57:18.297220Z",
     "iopub.status.idle": "2023-02-28T05:00:40.712223Z",
     "shell.execute_reply": "2023-02-28T05:00:40.711263Z"
    },
    "papermill": {
     "duration": 202.427639,
     "end_time": "2023-02-28T05:00:40.714586",
     "exception": false,
     "start_time": "2023-02-28T04:57:18.286947",
     "status": "completed"
    },
    "tags": []
   },
   "outputs": [
    {
     "data": {
      "text/plain": [
       "0    119036\n",
       "1     13030\n",
       "Name: contact, dtype: int64"
      ]
     },
     "metadata": {},
     "output_type": "display_data"
    },
    {
     "name": "stdout",
     "output_type": "stream",
     "text": [
      "[0]\ttrain-auc:0.91499\teval-auc:0.89229\n",
      "[100]\ttrain-auc:0.98444\teval-auc:0.95081\n",
      "[200]\ttrain-auc:0.99375\teval-auc:0.95395\n",
      "[300]\ttrain-auc:0.99633\teval-auc:0.95436\n",
      "[400]\ttrain-auc:0.99798\teval-auc:0.95460\n",
      "[500]\ttrain-auc:0.99896\teval-auc:0.95459\n",
      "[583]\ttrain-auc:0.99944\teval-auc:0.95435\n",
      "Performance of the prediction: 0.95435\n",
      "\n"
     ]
    },
    {
     "data": {
      "text/plain": [
       "0    119555\n",
       "1     12629\n",
       "Name: contact, dtype: int64"
      ]
     },
     "metadata": {},
     "output_type": "display_data"
    },
    {
     "name": "stdout",
     "output_type": "stream",
     "text": [
      "[0]\ttrain-auc:0.92022\teval-auc:0.88591\n",
      "[100]\ttrain-auc:0.98505\teval-auc:0.94480\n",
      "[200]\ttrain-auc:0.99358\teval-auc:0.94739\n",
      "[300]\ttrain-auc:0.99638\teval-auc:0.94676\n",
      "[303]\ttrain-auc:0.99643\teval-auc:0.94675\n",
      "Performance of the prediction: 0.94675\n",
      "\n"
     ]
    },
    {
     "data": {
      "text/plain": [
       "0    118545\n",
       "1     13620\n",
       "Name: contact, dtype: int64"
      ]
     },
     "metadata": {},
     "output_type": "display_data"
    },
    {
     "name": "stdout",
     "output_type": "stream",
     "text": [
      "[0]\ttrain-auc:0.91852\teval-auc:0.86941\n",
      "[100]\ttrain-auc:0.98545\teval-auc:0.94066\n",
      "[200]\ttrain-auc:0.99434\teval-auc:0.94386\n",
      "[300]\ttrain-auc:0.99673\teval-auc:0.94368\n",
      "[327]\ttrain-auc:0.99719\teval-auc:0.94361\n",
      "Performance of the prediction: 0.94359\n",
      "\n"
     ]
    },
    {
     "data": {
      "text/plain": [
       "0    119615\n",
       "1     12566\n",
       "Name: contact, dtype: int64"
      ]
     },
     "metadata": {},
     "output_type": "display_data"
    },
    {
     "name": "stdout",
     "output_type": "stream",
     "text": [
      "[0]\ttrain-auc:0.92153\teval-auc:0.86664\n",
      "[100]\ttrain-auc:0.98582\teval-auc:0.93505\n",
      "[200]\ttrain-auc:0.99430\teval-auc:0.93970\n",
      "[300]\ttrain-auc:0.99692\teval-auc:0.94094\n",
      "[400]\ttrain-auc:0.99847\teval-auc:0.94131\n",
      "[500]\ttrain-auc:0.99921\teval-auc:0.94123\n",
      "[527]\ttrain-auc:0.99935\teval-auc:0.94119\n",
      "Performance of the prediction: 0.94118\n",
      "\n"
     ]
    },
    {
     "data": {
      "text/plain": [
       "0    119497\n",
       "1     12467\n",
       "Name: contact, dtype: int64"
      ]
     },
     "metadata": {},
     "output_type": "display_data"
    },
    {
     "name": "stdout",
     "output_type": "stream",
     "text": [
      "[0]\ttrain-auc:0.92063\teval-auc:0.87953\n",
      "[100]\ttrain-auc:0.98496\teval-auc:0.94008\n",
      "[200]\ttrain-auc:0.99361\teval-auc:0.94378\n",
      "[300]\ttrain-auc:0.99647\teval-auc:0.94438\n",
      "[370]\ttrain-auc:0.99769\teval-auc:0.94387\n",
      "Performance of the prediction: 0.94387\n",
      "\n",
      "All Performance of the prediction: 0.94582\n"
     ]
    }
   ],
   "source": [
    "cfg.folds = get_groupkfold(train, 'contact', 'game_play', cfg.num_fold)\n",
    "cfg.folds.to_csv(os.path.join(cfg.EXP_PREDS, 'folds.csv'), index=False)\n",
    "\n",
    "oof_pred[np.where(cond_dis_train)] = fit_xgboost(cfg, train[feature_cols], train['contact'], \n",
    "                                              cfg.xgb_params, add_suffix=\"_xgb_1st\")\n",
    "np.save('oof_pred_2.npy',oof_pred)\n",
    "sub_pred_2 = pred_xgboost(test.loc[cond_dis_test, feature_cols], cfg.EXP_MODEL, add_suffix=\"_xgb_1st\")"
   ]
  },
  {
   "cell_type": "code",
   "execution_count": null,
   "id": "01713a29",
   "metadata": {},
   "outputs": [],
   "source": [
    "x0 = [0.5]\n",
    "result = minimize(func, x0,  method=\"nelder-mead\")\n",
    "cfg.threshold = result.x[0]\n",
    "print(\"score:\", round(matthews_corrcoef(train_y, oof_pred>cfg.threshold), 5))   \n",
    "print(\"threshold\", round(cfg.threshold, 5))\n",
    "\n",
    "sub_pred_2 = (sub_pred_2 > cfg.threshold).astype(int)\n",
    "# sub_pred_1이 6631개의 0,1 값으로 변경되는지 확인\n",
    "sub_pred_2"
   ]
  },
  {
   "cell_type": "code",
   "execution_count": null,
   "id": "c628ef70",
   "metadata": {},
   "outputs": [],
   "source": [
    "train = train.fillna(0)\n",
    "\n",
    "from sklearn.ensemble import  StackingClassifier\n",
    "from sklearn.naive_bayes import GaussianNB\n",
    "import lightgbm as lgb  \n",
    "import xgboost as xgb\n",
    "import catboost as cb\n",
    "from catboost import CatBoostClassifier\n",
    "# from sklearn.model_selection import KFold\n",
    "from sklearn.metrics import f1_score\n",
    "from sklearn.model_selection import train_test_split\n",
    "\n",
    "# 데이터 로드\n",
    "data, target = train[feature_cols], train['contact']\n",
    "train_x, valid_x, train_y, valid_y = train_test_split(data, target, test_size=0.25)\n",
    "\n",
    "score = 0\n",
    "models = []\n",
    "\n",
    "\n",
    "base_models = [('rf_1', lgb.LGBMClassifier(\n",
    "                            objective = 'binary',\n",
    "                            learning_rate = 0.03, \n",
    "                            lambda_l1 = 2.757654517864576e-06,\n",
    "#                             lambda_l2 = 0.018135558360332416,\n",
    "                            num_leaves = 254,\n",
    "                            feature_fraction = 0.9083150639158681,\n",
    "                            bagging_fraction = 0.7563425196831307,\n",
    "                            bagging_freq = 5,\n",
    "                            min_child_samples = 33\n",
    "                     )),\n",
    "               \n",
    "               ('rf_2', cb.CatBoostClassifier(\n",
    "                            loss_function = 'Logloss',\n",
    "                            eval_metric = 'Accuracy',\n",
    "                            verbose = False,\n",
    "                            depth = 9,\n",
    "                            learning_rate = 0.09349732050796461,\n",
    "                            l2_leaf_reg = 0.0026112334190675508, \n",
    "                            bagging_temperature = 0.004346654343182356,\n",
    "                            random_strength = 0.0002090724949890479, \n",
    "                            border_count = 99\n",
    "                     ))]\n",
    "\n",
    "    # stacking 설정\n",
    "model = StackingClassifier(estimators=base_models, final_estimator=xgb.XGBClassifier(max_depth=3,\n",
    "                                                                                     objective = 'binary:logistic',\n",
    "                                                                                     learning_rate= 0.03,\n",
    "                                                                                     n_estimators= 50,\n",
    "                                                                                     reg_alpha = 0.5,\n",
    "#                                        nthread = -1,\n",
    "                                                                                     min_child_weight=3,\n",
    "                                                                                     gamma=0.5,\n",
    "                                                                                     subsample=0.5\n",
    "#                                                                                      colsample_bytree=0.5\n",
    "                                                                                    ))\n",
    "\n",
    "model.fit(train_x, train_y)\n",
    "models.append(model)\n",
    "\n",
    "pred = model.predict(valid_x)\n",
    "pred_i = model.predict_proba(valid_x)[:, 1]\n",
    "\n",
    "score = roc_auc_score(valid_y,(pred > 0.3).astype(int))"
   ]
  },
  {
   "cell_type": "code",
   "execution_count": null,
   "id": "3cd7754d",
   "metadata": {},
   "outputs": [],
   "source": [
    "del train\n",
    "gc.collect()"
   ]
  },
  {
   "cell_type": "code",
   "execution_count": null,
   "id": "668db680",
   "metadata": {},
   "outputs": [],
   "source": [
    "preds = np.array([model.predict_proba(test.loc[cond_dis_test, feature_cols])[:, 1] for model in models])\n",
    "preds = np.mean(preds, axis=0)\n",
    "preds = (preds > cfg.threshold).astype(int)\n",
    "preds"
   ]
  },
  {
   "cell_type": "code",
   "execution_count": 13,
   "id": "c15fc15d",
   "metadata": {
    "execution": {
     "iopub.execute_input": "2023-02-28T05:00:40.741160Z",
     "iopub.status.busy": "2023-02-28T05:00:40.739638Z",
     "iopub.status.idle": "2023-02-28T05:00:40.748552Z",
     "shell.execute_reply": "2023-02-28T05:00:40.747713Z"
    },
    "papermill": {
     "duration": 0.023558,
     "end_time": "2023-02-28T05:00:40.750853",
     "exception": false,
     "start_time": "2023-02-28T05:00:40.727295",
     "status": "completed"
    },
    "tags": []
   },
   "outputs": [
    {
     "data": {
      "text/plain": [
       "array([0.02025622, 0.03848793, 0.01408726, ..., 0.01222922, 0.03796682,\n",
       "       0.09217735])"
      ]
     },
     "execution_count": 13,
     "metadata": {},
     "output_type": "execute_result"
    }
   ],
   "source": [
    "# 예측값 배열 생성\n",
    "predictions = np.array([sub_pred_1, sub_pred_2, preds])\n",
    "\n",
    "# 하드보팅 적용하여 예측\n",
    "hard_vote = np.apply_along_axis(lambda x: np.argmax(np.bincount(x)), axis=0, arr=predictions)\n",
    "\n"
   ]
  },
  {
   "cell_type": "markdown",
   "id": "d916ec09",
   "metadata": {
    "papermill": {
     "duration": 0.010773,
     "end_time": "2023-02-28T05:00:40.773574",
     "exception": false,
     "start_time": "2023-02-28T05:00:40.762801",
     "status": "completed"
    },
    "tags": []
   },
   "source": [
    "# Submission"
   ]
  },
  {
   "cell_type": "code",
   "execution_count": 14,
   "id": "6fceaa3f",
   "metadata": {
    "execution": {
     "iopub.execute_input": "2023-02-28T05:00:40.796820Z",
     "iopub.status.busy": "2023-02-28T05:00:40.796498Z",
     "iopub.status.idle": "2023-02-28T05:00:40.912513Z",
     "shell.execute_reply": "2023-02-28T05:00:40.911482Z"
    },
    "papermill": {
     "duration": 0.13003,
     "end_time": "2023-02-28T05:00:40.914517",
     "exception": false,
     "start_time": "2023-02-28T05:00:40.784487",
     "status": "completed"
    },
    "tags": []
   },
   "outputs": [
    {
     "data": {
      "text/html": [
       "<div>\n",
       "<style scoped>\n",
       "    .dataframe tbody tr th:only-of-type {\n",
       "        vertical-align: middle;\n",
       "    }\n",
       "\n",
       "    .dataframe tbody tr th {\n",
       "        vertical-align: top;\n",
       "    }\n",
       "\n",
       "    .dataframe thead th {\n",
       "        text-align: right;\n",
       "    }\n",
       "</style>\n",
       "<table border=\"1\" class=\"dataframe\">\n",
       "  <thead>\n",
       "    <tr style=\"text-align: right;\">\n",
       "      <th></th>\n",
       "      <th>contact_id</th>\n",
       "      <th>contact</th>\n",
       "    </tr>\n",
       "  </thead>\n",
       "  <tbody>\n",
       "    <tr>\n",
       "      <th>0</th>\n",
       "      <td>58168_003392_0_37084_37211</td>\n",
       "      <td>0</td>\n",
       "    </tr>\n",
       "    <tr>\n",
       "      <th>1</th>\n",
       "      <td>58168_003392_0_37084_38556</td>\n",
       "      <td>0</td>\n",
       "    </tr>\n",
       "    <tr>\n",
       "      <th>2</th>\n",
       "      <td>58168_003392_0_37084_38567</td>\n",
       "      <td>0</td>\n",
       "    </tr>\n",
       "    <tr>\n",
       "      <th>3</th>\n",
       "      <td>58168_003392_0_37084_38590</td>\n",
       "      <td>0</td>\n",
       "    </tr>\n",
       "    <tr>\n",
       "      <th>4</th>\n",
       "      <td>58168_003392_0_37084_39947</td>\n",
       "      <td>0</td>\n",
       "    </tr>\n",
       "  </tbody>\n",
       "</table>\n",
       "</div>"
      ],
      "text/plain": [
       "                   contact_id  contact\n",
       "0  58168_003392_0_37084_37211        0\n",
       "1  58168_003392_0_37084_38556        0\n",
       "2  58168_003392_0_37084_38567        0\n",
       "3  58168_003392_0_37084_38590        0\n",
       "4  58168_003392_0_37084_39947        0"
      ]
     },
     "metadata": {},
     "output_type": "display_data"
    }
   ],
   "source": [
    "test = add_contact_id(test)\n",
    "test['contact'] = 0\n",
    "# test.loc[cond_dis_test, 'contact'] = hard_vote.astype(int)\n",
    "test.loc[cond_dis_test, 'contact'] = hard_vote\n",
    "test[['contact_id', 'contact']].to_csv('submission.csv', index=False)\n",
    "display(test[['contact_id', 'contact']].head())"
   ]
  },
  {
   "cell_type": "code",
   "execution_count": null,
   "id": "e93bc1d7",
   "metadata": {
    "papermill": {
     "duration": 0.016795,
     "end_time": "2023-02-28T05:00:40.942646",
     "exception": false,
     "start_time": "2023-02-28T05:00:40.925851",
     "status": "completed"
    },
    "tags": []
   },
   "outputs": [],
   "source": []
  }
 ],
 "metadata": {
  "kernelspec": {
   "display_name": "Python 3",
   "language": "python",
   "name": "python3"
  },
  "language_info": {
   "codemirror_mode": {
    "name": "ipython",
    "version": 3
   },
   "file_extension": ".py",
   "mimetype": "text/x-python",
   "name": "python",
   "nbconvert_exporter": "python",
   "pygments_lexer": "ipython3",
   "version": "3.10.7 (tags/v3.10.7:6cc6b13, Sep  5 2022, 14:08:36) [MSC v.1933 64 bit (AMD64)]"
  },
  "papermill": {
   "default_parameters": {},
   "duration": 2944.752998,
   "end_time": "2023-02-28T05:00:44.111102",
   "environment_variables": {},
   "exception": null,
   "input_path": "__notebook__.ipynb",
   "output_path": "__notebook__.ipynb",
   "parameters": {},
   "start_time": "2023-02-28T04:11:39.358104",
   "version": "2.3.4"
  },
  "vscode": {
   "interpreter": {
    "hash": "26de051ba29f2982a8de78e945f0abaf191376122a1563185a90213a26c5da77"
   }
  }
 },
 "nbformat": 4,
 "nbformat_minor": 5
}
